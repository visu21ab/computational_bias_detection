{
 "cells": [
  {
   "cell_type": "markdown",
   "id": "3ba94ec4",
   "metadata": {},
   "source": [
    "# Fetching News Articles from the Guardian with API\n",
    "\n",
    "Fetching the Guardian articles with the developer API key. Same code is used for both Syrian and Ukrainian refugees, the only parameter that is changed is the keyword. "
   ]
  },
  {
   "cell_type": "code",
   "execution_count": null,
   "id": "1fffeebb",
   "metadata": {},
   "outputs": [],
   "source": [
    "import csv\n",
    "import requests\n",
    "\n",
    "api_key = {api_key}\n",
    "endpoint = \"http://content.guardianapis.com/search\"\n",
    "\n",
    "params = {\n",
    "    \"q\": \"Syrian refugee\",\n",
    "    \"api-key\": {api_key},\n",
    "    \"page-size\": 100,  # The number of articles per page\n",
    "    \"page\": 1,  # The starting page\n",
    "    \"show-fields\": \"body\"  # Include the article body in the API response\n",
    "}\n",
    "\n",
    "filename = '/Users/emiliatrulsson/Desktop/syria_guardian.csv'\n",
    "\n",
    "with open(filename, 'w', newline='') as file:\n",
    "    writer = csv.writer(file)\n",
    "    writer.writerow(['id', 'publication_date', 'sectionName', 'webTitle', 'body'])\n",
    "\n",
    "    while True:\n",
    "        response = requests.get(endpoint, params=params)\n",
    "        data = response.json()\n",
    "        \n",
    "        if 'results' not in data['response']:\n",
    "            break\n",
    "        \n",
    "        articles = data['response']['results']\n",
    "        if not articles:\n",
    "            break\n",
    "\n",
    "        for article in articles:\n",
    "            id_parts = article['id'].split('/')\n",
    "            if len(id_parts) == 5:\n",
    "                publication_date = '/'.join(id_parts[1:4])\n",
    "            else:\n",
    "                publication_date = '/'.join(id_parts[1:5])\n",
    "            writer.writerow([article['id'], publication_date, article['sectionName'], article['webTitle'], article.get('fields', {}).get('body', '')])\n",
    "\n",
    "        params['page'] += 1\n"
   ]
  },
  {
   "cell_type": "code",
   "execution_count": null,
   "id": "ef256856",
   "metadata": {},
   "outputs": [],
   "source": [
    "# The extracted date column was in an odd format, therefore we are adding another column 'publication_date_fixed to have a stradard format of it\n",
    "import datetime\n",
    "import sys \n",
    "\n",
    "csv.field_size_limit(sys.maxsize)\n",
    "\n",
    "filename = 'syria_guardian.csv'\n",
    "new_filename = 'syria_guardian_final.csv'\n",
    "\n",
    "with open(filename, 'r') as file, open(new_filename, 'w', newline='') as new_file:\n",
    "    reader = csv.reader(file)\n",
    "    writer = csv.writer(new_file)\n",
    "\n",
    "    headers = next(reader)\n",
    "    headers.append('publication_date_fixed')\n",
    "    writer.writerow(headers)\n",
    "\n",
    "    for row in reader:\n",
    "        id = row[0]\n",
    "        id_parts = id.split('/')\n",
    "        if len(id_parts) >= 4:\n",
    "            date_string = f\"{id_parts[-4]} {id_parts[-3]} {id_parts[-2]}\"\n",
    "            date_format = \"%Y %b %d\"\n",
    "            publication_date_fixed = datetime.datetime.strptime(date_string, date_format).strftime(\"%Y-%m-%d\")\n",
    "            row.append(publication_date_fixed)\n",
    "        else:\n",
    "            row.append('')\n",
    "        writer.writerow(row)\n"
   ]
  }
 ],
 "metadata": {
  "kernelspec": {
   "display_name": "Python 3",
   "language": "python",
   "name": "python3"
  },
  "language_info": {
   "codemirror_mode": {
    "name": "ipython",
    "version": 3
   },
   "file_extension": ".py",
   "mimetype": "text/x-python",
   "name": "python",
   "nbconvert_exporter": "python",
   "pygments_lexer": "ipython3",
   "version": "3.8.8"
  }
 },
 "nbformat": 4,
 "nbformat_minor": 5
}
