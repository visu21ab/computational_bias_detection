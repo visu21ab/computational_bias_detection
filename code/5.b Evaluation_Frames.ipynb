{
  "nbformat": 4,
  "nbformat_minor": 0,
  "metadata": {
    "colab": {
      "provenance": [],
      "include_colab_link": true
    },
    "kernelspec": {
      "name": "python3",
      "display_name": "Python 3"
    },
    "language_info": {
      "name": "python"
    }
  },
  "cells": [
    {
      "cell_type": "markdown",
      "metadata": {
        "id": "view-in-github",
        "colab_type": "text"
      },
      "source": [
        "<a href=\"https://colab.research.google.com/github/visu21ab/computational_bias_detection/blob/main/code/5.b%20Evaluation_Frames.ipynb\" target=\"_parent\"><img src=\"https://colab.research.google.com/assets/colab-badge.svg\" alt=\"Open In Colab\"/></a>"
      ]
    },
    {
      "cell_type": "markdown",
      "source": [
        "# Evaluation"
      ],
      "metadata": {
        "id": "RvYs5H4s3FVL"
      }
    },
    {
      "cell_type": "markdown",
      "source": [
        "pre-requisite files:\n",
        "- sample of 1000 rows from ukraine dataset annotated with frames \n",
        "- sample of 1000 rows from ukraine dataset with predicted frames \n"
      ],
      "metadata": {
        "id": "OYleMB_13H-H"
      }
    },
    {
      "cell_type": "code",
      "source": [
        "!pip install scienceplots"
      ],
      "metadata": {
        "id": "7sD1QGLpaCvS",
        "outputId": "6bd36d64-7504-4e10-de3e-fe58e88d092b",
        "colab": {
          "base_uri": "https://localhost:8080/"
        }
      },
      "execution_count": 2,
      "outputs": [
        {
          "output_type": "stream",
          "name": "stdout",
          "text": [
            "Looking in indexes: https://pypi.org/simple, https://us-python.pkg.dev/colab-wheels/public/simple/\n",
            "Collecting scienceplots\n",
            "  Downloading SciencePlots-2.0.1-py3-none-any.whl (15 kB)\n",
            "Requirement already satisfied: matplotlib in /usr/local/lib/python3.10/dist-packages (from scienceplots) (3.7.1)\n",
            "Requirement already satisfied: contourpy>=1.0.1 in /usr/local/lib/python3.10/dist-packages (from matplotlib->scienceplots) (1.0.7)\n",
            "Requirement already satisfied: cycler>=0.10 in /usr/local/lib/python3.10/dist-packages (from matplotlib->scienceplots) (0.11.0)\n",
            "Requirement already satisfied: fonttools>=4.22.0 in /usr/local/lib/python3.10/dist-packages (from matplotlib->scienceplots) (4.39.3)\n",
            "Requirement already satisfied: kiwisolver>=1.0.1 in /usr/local/lib/python3.10/dist-packages (from matplotlib->scienceplots) (1.4.4)\n",
            "Requirement already satisfied: numpy>=1.20 in /usr/local/lib/python3.10/dist-packages (from matplotlib->scienceplots) (1.22.4)\n",
            "Requirement already satisfied: packaging>=20.0 in /usr/local/lib/python3.10/dist-packages (from matplotlib->scienceplots) (23.1)\n",
            "Requirement already satisfied: pillow>=6.2.0 in /usr/local/lib/python3.10/dist-packages (from matplotlib->scienceplots) (8.4.0)\n",
            "Requirement already satisfied: pyparsing>=2.3.1 in /usr/local/lib/python3.10/dist-packages (from matplotlib->scienceplots) (3.0.9)\n",
            "Requirement already satisfied: python-dateutil>=2.7 in /usr/local/lib/python3.10/dist-packages (from matplotlib->scienceplots) (2.8.2)\n",
            "Requirement already satisfied: six>=1.5 in /usr/local/lib/python3.10/dist-packages (from python-dateutil>=2.7->matplotlib->scienceplots) (1.16.0)\n",
            "Installing collected packages: scienceplots\n",
            "Successfully installed scienceplots-2.0.1\n"
          ]
        }
      ]
    },
    {
      "cell_type": "code",
      "source": [
        "# Import requiered packages\n",
        "import pandas as pd\n",
        "import numpy as np\n",
        "import seaborn as sns\n",
        "from sklearn import metrics\n",
        "import matplotlib.pyplot as plt\n",
        "import scienceplots\n",
        "\n",
        "from sklearn.metrics import classification_report, confusion_matrix"
      ],
      "metadata": {
        "id": "B5FFNjKdRBxy"
      },
      "execution_count": 9,
      "outputs": []
    },
    {
      "cell_type": "code",
      "source": [
        "# Set scienceplot style\n",
        "plt.style.use(['science', 'no-latex'])\n",
        "plt.rcParams['figure.figsize'] = (6.4, 4.8)"
      ],
      "metadata": {
        "id": "MynLDBx3RN9V"
      },
      "execution_count": 10,
      "outputs": []
    },
    {
      "cell_type": "code",
      "source": [
        "# Read the data\n",
        "data_pred = pd.read_csv('drive/MyDrive/Master Thesis/ukraine_predicted_frames.csv')\n",
        "data_true = pd.read_csv('drive/MyDrive/Master Thesis/ukraine_annotated_frames.csv')\n"
      ],
      "metadata": {
        "id": "2OwpENP1KziJ"
      },
      "execution_count": 67,
      "outputs": []
    },
    {
      "cell_type": "code",
      "source": [
        "data_true.count()"
      ],
      "metadata": {
        "colab": {
          "base_uri": "https://localhost:8080/"
        },
        "id": "Ev0-2UlATHNT",
        "outputId": "1d259943-dfaf-4f70-e5c3-9855502fb3f4"
      },
      "execution_count": 69,
      "outputs": [
        {
          "output_type": "execute_result",
          "data": {
            "text/plain": [
              "Unnamed: 0                     1000\n",
              "Date                           1000\n",
              "Headline                       1000\n",
              "merged_text                    1000\n",
              "id                             1000\n",
              "parsing_corpus                 1000\n",
              "frame_identification_corpus    1000\n",
              "Frames                         1000\n",
              "dtype: int64"
            ]
          },
          "metadata": {},
          "execution_count": 69
        }
      ]
    },
    {
      "cell_type": "code",
      "source": [
        "data_pred.count()"
      ],
      "metadata": {
        "colab": {
          "base_uri": "https://localhost:8080/"
        },
        "id": "SQuW_BAnU9aJ",
        "outputId": "fe68a52c-963a-410c-f31d-141688dd5ae3"
      },
      "execution_count": 70,
      "outputs": [
        {
          "output_type": "execute_result",
          "data": {
            "text/plain": [
              "Unnamed: 0                     1000\n",
              "Date                           1000\n",
              "Headline                       1000\n",
              "merged_text                    1000\n",
              "id                             1000\n",
              "parsing_corpus                 1000\n",
              "frame_identification_corpus    1000\n",
              "Frames                         1000\n",
              "dtype: int64"
            ]
          },
          "metadata": {},
          "execution_count": 70
        }
      ]
    },
    {
      "cell_type": "code",
      "source": [
        "# Get the true labels and predicted labels for the data_pred dataset\n",
        "y_true_pred = data_pred['Frames']\n",
        "\n",
        "# Get the true labels and predicted labels for the data_true dataset\n",
        "y_true_true = data_true['Frames']"
      ],
      "metadata": {
        "id": "29E93-4ka33V"
      },
      "execution_count": 71,
      "outputs": []
    },
    {
      "cell_type": "code",
      "source": [
        "# Calculate classification report for the two datasets\n",
        "report = classification_report(y_true_true, y_true_pred, output_dict=True)\n",
        "\n",
        "# Print f1 score, recall, precision, and accuracy\n",
        "print(\"F1 Score: {:.2f}\".format(report['accuracy']))\n",
        "print(\"Recall: {:.2f}\".format(report['weighted avg']['recall']))\n",
        "print(\"Precision: {:.2f}\".format(report['weighted avg']['precision']))\n",
        "print(\"Accuracy: {:.2f}\".format(report['weighted avg']['f1-score']))"
      ],
      "metadata": {
        "id": "eR7YVhdKaOMl",
        "outputId": "255826e1-0549-4d45-d1c4-b41a85d12dc0",
        "colab": {
          "base_uri": "https://localhost:8080/"
        }
      },
      "execution_count": 72,
      "outputs": [
        {
          "output_type": "stream",
          "name": "stdout",
          "text": [
            "F1 Score: 0.87\n",
            "Recall: 0.87\n",
            "Precision: 0.76\n",
            "Accuracy: 0.81\n"
          ]
        },
        {
          "output_type": "stream",
          "name": "stderr",
          "text": [
            "/usr/local/lib/python3.10/dist-packages/sklearn/metrics/_classification.py:1344: UndefinedMetricWarning: Precision and F-score are ill-defined and being set to 0.0 in labels with no predicted samples. Use `zero_division` parameter to control this behavior.\n",
            "  _warn_prf(average, modifier, msg_start, len(result))\n",
            "/usr/local/lib/python3.10/dist-packages/sklearn/metrics/_classification.py:1344: UndefinedMetricWarning: Precision and F-score are ill-defined and being set to 0.0 in labels with no predicted samples. Use `zero_division` parameter to control this behavior.\n",
            "  _warn_prf(average, modifier, msg_start, len(result))\n",
            "/usr/local/lib/python3.10/dist-packages/sklearn/metrics/_classification.py:1344: UndefinedMetricWarning: Precision and F-score are ill-defined and being set to 0.0 in labels with no predicted samples. Use `zero_division` parameter to control this behavior.\n",
            "  _warn_prf(average, modifier, msg_start, len(result))\n"
          ]
        }
      ]
    },
    {
      "cell_type": "code",
      "source": [],
      "metadata": {
        "id": "w9FMOvc1fU-Y"
      },
      "execution_count": null,
      "outputs": []
    }
  ]
}