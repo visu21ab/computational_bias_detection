{
  "nbformat": 4,
  "nbformat_minor": 0,
  "metadata": {
    "colab": {
      "provenance": [],
      "machine_shape": "hm"
    },
    "kernelspec": {
      "name": "python3",
      "display_name": "Python 3"
    },
    "language_info": {
      "name": "python"
    },
    "accelerator": "GPU",
    "gpuClass": "standard"
  },
  "cells": [
    {
      "cell_type": "code",
      "execution_count": 44,
      "metadata": {
        "id": "swwdf-TnbI-Y"
      },
      "outputs": [],
      "source": [
        "\n",
        "from collections import Counter\n",
        "import pandas as pd\n",
        "import re\n"
      ]
    },
    {
      "cell_type": "code",
      "source": [
        "from google.colab import drive\n",
        "drive.mount('/content/drive')\n"
      ],
      "metadata": {
        "colab": {
          "base_uri": "https://localhost:8080/"
        },
        "id": "GaH2FxfxbLNa",
        "outputId": "121b5600-a79b-428c-ded8-f2e5ee36e27c"
      },
      "execution_count": 2,
      "outputs": [
        {
          "output_type": "stream",
          "name": "stdout",
          "text": [
            "Mounted at /content/drive\n"
          ]
        }
      ]
    },
    {
      "cell_type": "markdown",
      "source": [
        "### Merging UNHCR and Guardian data\n",
        "\n",
        "Pre-requisite files:\n",
        "\n",
        "For Syria:\n",
        "- syria_guardian_final.csv\n",
        "- syria_unhcr_file.csv\n",
        "\n",
        "For Ukraine:\n",
        "- ukraine_guardian_final.csv\n",
        "- ukraine_unhcr_file.csv\n",
        "\n",
        "Same code used for Syria and Ukraine, respectively\n",
        "\n",
        "Size after the whole cleaning and corpus creation process:\n",
        "\n",
        "Syria: 20894  \n",
        "Ukraine: 13554"
      ],
      "metadata": {
        "id": "D9xpv03sb_wo"
      }
    },
    {
      "cell_type": "code",
      "source": [
        "# Load files\n",
        "df1 = pd.read_csv('/content/drive/MyDrive/code_file/preprocessing/syria_guardian_final.csv')\n",
        "df2 = pd.read_csv(\"/content/drive/MyDrive/code_file/preprocessing/syria_unhcr_file.csv\")\n",
        "\n",
        "# Rename columns in df1 to match columns in df2\n",
        "df1 = df1.rename(columns={'publication_date_fixed': 'Date', 'webTitle': 'Headline', 'body': 'merged_text'})\n",
        "\n",
        "# Select columns from df1 that match the desired columns in the output file\n",
        "df1 = df1[['Date', 'Headline', 'id', 'merged_text']]\n",
        "\n",
        "# Load df2 \n",
        "df2 = df2[['Date', 'Headline', 'merged_text']]\n",
        "\n",
        "# Concatenate the two dataframes vertically\n",
        "output_df = pd.concat([df1, df2])\n",
        "\n",
        "# Convert the 'Date' column to datetime format\n",
        "output_df['Date'] = pd.to_datetime(output_df['Date'], errors='coerce')\n",
        "\n",
        "# Create a new 'id' column by concatenating the 'Date' and 'Headline' columns\n",
        "output_df['id_new'] = output_df['Date'].dt.strftime('%Y-%m-%d') + output_df['Headline']\n",
        "\n",
        "# Remove spaces from the 'id' column\n",
        "output_df['id_new'] = output_df['id_new'].str.replace(' ', '')\n",
        "\n",
        "# Remove the old 'id' column\n",
        "output_df.drop(columns=['id'], inplace=True)\n",
        "\n",
        "# Rename the new 'id' column to 'id'\n",
        "#output_df.rename(columns={'id_new': 'id'}, inplace=True)\n",
        "\n",
        "# Print the original number of rows and columns for df1 and df2\n",
        "print(\"Original number of rows and columns for df1:\")\n",
        "print(df1.shape)\n",
        "print(\"Original number of rows and columns for df2:\")\n",
        "print(df2.shape)\n",
        "\n",
        "# Print the number of rows and columns for the output dataframe\n",
        "print(\"Number of rows and columns for the output dataframe:\")\n",
        "print(output_df.shape)\n",
        "\n",
        "# Fill in missing values with an empty string\n",
        "output_df.fillna('', inplace=True)"
      ],
      "metadata": {
        "colab": {
          "base_uri": "https://localhost:8080/"
        },
        "id": "CAxkWrbybRkF",
        "outputId": "a21806a1-d7ea-42d1-c612-83c070e33023"
      },
      "execution_count": 27,
      "outputs": [
        {
          "output_type": "stream",
          "name": "stderr",
          "text": [
            "<ipython-input-27-98280e584658>:3: DtypeWarning: Columns (35,36) have mixed types. Specify dtype option on import or set low_memory=False.\n",
            "  df2 = pd.read_csv(\"/content/drive/MyDrive/code_file/preprocessing/syria_unhcr_file.csv\")\n"
          ]
        },
        {
          "output_type": "stream",
          "name": "stdout",
          "text": [
            "Original number of rows and columns for df1:\n",
            "(22607, 4)\n",
            "Original number of rows and columns for df2:\n",
            "(712404, 3)\n",
            "Number of rows and columns for the output dataframe:\n",
            "(735011, 4)\n"
          ]
        }
      ]
    },
    {
      "cell_type": "code",
      "source": [
        "output_df.head()"
      ],
      "metadata": {
        "colab": {
          "base_uri": "https://localhost:8080/",
          "height": 250
        },
        "id": "sq2sXcpugq0D",
        "outputId": "39797cac-bd22-4771-f285-fef431e1e9fa"
      },
      "execution_count": 28,
      "outputs": [
        {
          "output_type": "execute_result",
          "data": {
            "text/plain": [
              "        Date                                           Headline  \\\n",
              "0 2022-08-23  Turkey’s rapprochement with Syria leaves regio...   \n",
              "1 2023-01-20  US state department announces new refugee prog...   \n",
              "2 2023-01-26  Children go hungry at Kenya refugee camp as ma...   \n",
              "3 2022-03-07  Syria, Afghanistan, Ukraine: how many refugee ...   \n",
              "4 2022-11-17  Firefighter arrested in Germany over refugee s...   \n",
              "\n",
              "                                         merged_text  \\\n",
              "0  <p>Syrians across the opposition and in the Ku...   \n",
              "1  <p>The US state department has announced a new...   \n",
              "2  <p>Malnutrition among children in one of the w...   \n",
              "3  <p>The province of Van, in the east of Turkey,...   \n",
              "4  <p>A fire that tore through a shelter for Ukra...   \n",
              "\n",
              "                                              id_new  \n",
              "0  2022-08-23Turkey’srapprochementwithSyrialeaves...  \n",
              "1  2023-01-20USstatedepartmentannouncesnewrefugee...  \n",
              "2  2023-01-26ChildrengohungryatKenyarefugeecampas...  \n",
              "3  2022-03-07Syria,Afghanistan,Ukraine:howmanyref...  \n",
              "4  2022-11-17FirefighterarrestedinGermanyoverrefu...  "
            ],
            "text/html": [
              "\n",
              "  <div id=\"df-7b894030-66bf-4614-958f-2b9c90a14415\">\n",
              "    <div class=\"colab-df-container\">\n",
              "      <div>\n",
              "<style scoped>\n",
              "    .dataframe tbody tr th:only-of-type {\n",
              "        vertical-align: middle;\n",
              "    }\n",
              "\n",
              "    .dataframe tbody tr th {\n",
              "        vertical-align: top;\n",
              "    }\n",
              "\n",
              "    .dataframe thead th {\n",
              "        text-align: right;\n",
              "    }\n",
              "</style>\n",
              "<table border=\"1\" class=\"dataframe\">\n",
              "  <thead>\n",
              "    <tr style=\"text-align: right;\">\n",
              "      <th></th>\n",
              "      <th>Date</th>\n",
              "      <th>Headline</th>\n",
              "      <th>merged_text</th>\n",
              "      <th>id_new</th>\n",
              "    </tr>\n",
              "  </thead>\n",
              "  <tbody>\n",
              "    <tr>\n",
              "      <th>0</th>\n",
              "      <td>2022-08-23</td>\n",
              "      <td>Turkey’s rapprochement with Syria leaves regio...</td>\n",
              "      <td>&lt;p&gt;Syrians across the opposition and in the Ku...</td>\n",
              "      <td>2022-08-23Turkey’srapprochementwithSyrialeaves...</td>\n",
              "    </tr>\n",
              "    <tr>\n",
              "      <th>1</th>\n",
              "      <td>2023-01-20</td>\n",
              "      <td>US state department announces new refugee prog...</td>\n",
              "      <td>&lt;p&gt;The US state department has announced a new...</td>\n",
              "      <td>2023-01-20USstatedepartmentannouncesnewrefugee...</td>\n",
              "    </tr>\n",
              "    <tr>\n",
              "      <th>2</th>\n",
              "      <td>2023-01-26</td>\n",
              "      <td>Children go hungry at Kenya refugee camp as ma...</td>\n",
              "      <td>&lt;p&gt;Malnutrition among children in one of the w...</td>\n",
              "      <td>2023-01-26ChildrengohungryatKenyarefugeecampas...</td>\n",
              "    </tr>\n",
              "    <tr>\n",
              "      <th>3</th>\n",
              "      <td>2022-03-07</td>\n",
              "      <td>Syria, Afghanistan, Ukraine: how many refugee ...</td>\n",
              "      <td>&lt;p&gt;The province of Van, in the east of Turkey,...</td>\n",
              "      <td>2022-03-07Syria,Afghanistan,Ukraine:howmanyref...</td>\n",
              "    </tr>\n",
              "    <tr>\n",
              "      <th>4</th>\n",
              "      <td>2022-11-17</td>\n",
              "      <td>Firefighter arrested in Germany over refugee s...</td>\n",
              "      <td>&lt;p&gt;A fire that tore through a shelter for Ukra...</td>\n",
              "      <td>2022-11-17FirefighterarrestedinGermanyoverrefu...</td>\n",
              "    </tr>\n",
              "  </tbody>\n",
              "</table>\n",
              "</div>\n",
              "      <button class=\"colab-df-convert\" onclick=\"convertToInteractive('df-7b894030-66bf-4614-958f-2b9c90a14415')\"\n",
              "              title=\"Convert this dataframe to an interactive table.\"\n",
              "              style=\"display:none;\">\n",
              "        \n",
              "  <svg xmlns=\"http://www.w3.org/2000/svg\" height=\"24px\"viewBox=\"0 0 24 24\"\n",
              "       width=\"24px\">\n",
              "    <path d=\"M0 0h24v24H0V0z\" fill=\"none\"/>\n",
              "    <path d=\"M18.56 5.44l.94 2.06.94-2.06 2.06-.94-2.06-.94-.94-2.06-.94 2.06-2.06.94zm-11 1L8.5 8.5l.94-2.06 2.06-.94-2.06-.94L8.5 2.5l-.94 2.06-2.06.94zm10 10l.94 2.06.94-2.06 2.06-.94-2.06-.94-.94-2.06-.94 2.06-2.06.94z\"/><path d=\"M17.41 7.96l-1.37-1.37c-.4-.4-.92-.59-1.43-.59-.52 0-1.04.2-1.43.59L10.3 9.45l-7.72 7.72c-.78.78-.78 2.05 0 2.83L4 21.41c.39.39.9.59 1.41.59.51 0 1.02-.2 1.41-.59l7.78-7.78 2.81-2.81c.8-.78.8-2.07 0-2.86zM5.41 20L4 18.59l7.72-7.72 1.47 1.35L5.41 20z\"/>\n",
              "  </svg>\n",
              "      </button>\n",
              "      \n",
              "  <style>\n",
              "    .colab-df-container {\n",
              "      display:flex;\n",
              "      flex-wrap:wrap;\n",
              "      gap: 12px;\n",
              "    }\n",
              "\n",
              "    .colab-df-convert {\n",
              "      background-color: #E8F0FE;\n",
              "      border: none;\n",
              "      border-radius: 50%;\n",
              "      cursor: pointer;\n",
              "      display: none;\n",
              "      fill: #1967D2;\n",
              "      height: 32px;\n",
              "      padding: 0 0 0 0;\n",
              "      width: 32px;\n",
              "    }\n",
              "\n",
              "    .colab-df-convert:hover {\n",
              "      background-color: #E2EBFA;\n",
              "      box-shadow: 0px 1px 2px rgba(60, 64, 67, 0.3), 0px 1px 3px 1px rgba(60, 64, 67, 0.15);\n",
              "      fill: #174EA6;\n",
              "    }\n",
              "\n",
              "    [theme=dark] .colab-df-convert {\n",
              "      background-color: #3B4455;\n",
              "      fill: #D2E3FC;\n",
              "    }\n",
              "\n",
              "    [theme=dark] .colab-df-convert:hover {\n",
              "      background-color: #434B5C;\n",
              "      box-shadow: 0px 1px 3px 1px rgba(0, 0, 0, 0.15);\n",
              "      filter: drop-shadow(0px 1px 2px rgba(0, 0, 0, 0.3));\n",
              "      fill: #FFFFFF;\n",
              "    }\n",
              "  </style>\n",
              "\n",
              "      <script>\n",
              "        const buttonEl =\n",
              "          document.querySelector('#df-7b894030-66bf-4614-958f-2b9c90a14415 button.colab-df-convert');\n",
              "        buttonEl.style.display =\n",
              "          google.colab.kernel.accessAllowed ? 'block' : 'none';\n",
              "\n",
              "        async function convertToInteractive(key) {\n",
              "          const element = document.querySelector('#df-7b894030-66bf-4614-958f-2b9c90a14415');\n",
              "          const dataTable =\n",
              "            await google.colab.kernel.invokeFunction('convertToInteractive',\n",
              "                                                     [key], {});\n",
              "          if (!dataTable) return;\n",
              "\n",
              "          const docLinkHtml = 'Like what you see? Visit the ' +\n",
              "            '<a target=\"_blank\" href=https://colab.research.google.com/notebooks/data_table.ipynb>data table notebook</a>'\n",
              "            + ' to learn more about interactive tables.';\n",
              "          element.innerHTML = '';\n",
              "          dataTable['output_type'] = 'display_data';\n",
              "          await google.colab.output.renderOutput(dataTable, element);\n",
              "          const docLink = document.createElement('div');\n",
              "          docLink.innerHTML = docLinkHtml;\n",
              "          element.appendChild(docLink);\n",
              "        }\n",
              "      </script>\n",
              "    </div>\n",
              "  </div>\n",
              "  "
            ]
          },
          "metadata": {},
          "execution_count": 28
        }
      ]
    },
    {
      "cell_type": "code",
      "source": [
        "output_df.count()"
      ],
      "metadata": {
        "colab": {
          "base_uri": "https://localhost:8080/"
        },
        "id": "iUObfzYig65Z",
        "outputId": "7482e407-0c46-4f12-a0d5-fb1a603988ce"
      },
      "execution_count": 29,
      "outputs": [
        {
          "output_type": "execute_result",
          "data": {
            "text/plain": [
              "Date           735011\n",
              "Headline       735011\n",
              "merged_text    735011\n",
              "id_new         735011\n",
              "dtype: int64"
            ]
          },
          "metadata": {},
          "execution_count": 29
        }
      ]
    },
    {
      "cell_type": "markdown",
      "source": [
        "# Text Cleaning"
      ],
      "metadata": {
        "id": "QqRDMIzVb6vU"
      }
    },
    {
      "cell_type": "code",
      "source": [
        "df = output_df"
      ],
      "metadata": {
        "id": "SpGlacjMh-I4"
      },
      "execution_count": 30,
      "outputs": []
    },
    {
      "cell_type": "code",
      "source": [
        "# Remove duplicates\n",
        "df.drop_duplicates(subset=['merged_text'], inplace=True)\n",
        "df.drop_duplicates(subset=['Headline'], inplace=True)\n"
      ],
      "metadata": {
        "id": "nT-Xfvkvb-Bl"
      },
      "execution_count": 31,
      "outputs": []
    },
    {
      "cell_type": "code",
      "source": [
        "# Remove rows with NaN values in 'merged_text' column\n",
        "df.dropna(subset=['merged_text'], inplace=True)\n",
        "\n",
        "# Remove rows with NaN values in 'headline' column\n",
        "df.dropna(subset=['Headline'], inplace=True)\n",
        "\n",
        "# Remove rows with 'NaN' values in 'merged_text' and 'headline' columns\n",
        "df = df[~df['merged_text'].isin(['NaN'])]\n",
        "df = df[~df['Headline'].isin(['NaN'])]\n",
        "\n",
        "# Remove rows with errors in 'headline' column\n",
        "error_headlines = ['403 ERROR', '\\n\\n', 'Error 403 not available now', 'Page not found', '404', 'PAGE NOT FOUND', '\\n']\n",
        "df = df[~df['Headline'].isin(error_headlines)]\n",
        "\n",
        "# Print the cleaned dataset\n",
        "print('The cleaned dataframe has {} rows and {} columns'.format(df.shape[0], df.shape[1]))\n",
        "df.head(10)\n"
      ],
      "metadata": {
        "colab": {
          "base_uri": "https://localhost:8080/",
          "height": 425
        },
        "id": "20oQmvdbiD3E",
        "outputId": "a602ffd2-1cd6-4ad7-dd33-dd47fbfae264"
      },
      "execution_count": 34,
      "outputs": [
        {
          "output_type": "stream",
          "name": "stdout",
          "text": [
            "The cleaned dataframe has 26544 rows and 4 columns\n"
          ]
        },
        {
          "output_type": "execute_result",
          "data": {
            "text/plain": [
              "        Date                                           Headline  \\\n",
              "0 2022-08-23  Turkey’s rapprochement with Syria leaves regio...   \n",
              "1 2023-01-20  US state department announces new refugee prog...   \n",
              "2 2023-01-26  Children go hungry at Kenya refugee camp as ma...   \n",
              "3 2022-03-07  Syria, Afghanistan, Ukraine: how many refugee ...   \n",
              "4 2022-11-17  Firefighter arrested in Germany over refugee s...   \n",
              "5 2023-01-11  Shamima Begum says she understands public ange...   \n",
              "6 2023-02-05  Afghan refugee in London told to give up docto...   \n",
              "7 2022-11-27  Concern for health of Ukrainians aboard Scotla...   \n",
              "8 2022-12-10  Afghan refugee freed in Greece after two years...   \n",
              "9 2022-12-05  UN refugee body criticises ‘errors’ in asylum ...   \n",
              "\n",
              "                                         merged_text  \\\n",
              "0  <p>Syrians across the opposition and in the Ku...   \n",
              "1  <p>The US state department has announced a new...   \n",
              "2  <p>Malnutrition among children in one of the w...   \n",
              "3  <p>The province of Van, in the east of Turkey,...   \n",
              "4  <p>A fire that tore through a shelter for Ukra...   \n",
              "5  <p>Shamima Begum, who left Britain to join Isl...   \n",
              "6  <p>A Chevening academic will be forced to give...   \n",
              "7  <p>The physical and mental health of Ukrainian...   \n",
              "8  <p>An imprisoned Afghan refugee wrongfully acc...   \n",
              "9  <p>A report partially endorsed by the UK home ...   \n",
              "\n",
              "                                              id_new  \n",
              "0  2022-08-23Turkey’srapprochementwithSyrialeaves...  \n",
              "1  2023-01-20USstatedepartmentannouncesnewrefugee...  \n",
              "2  2023-01-26ChildrengohungryatKenyarefugeecampas...  \n",
              "3  2022-03-07Syria,Afghanistan,Ukraine:howmanyref...  \n",
              "4  2022-11-17FirefighterarrestedinGermanyoverrefu...  \n",
              "5  2023-01-11ShamimaBegumsayssheunderstandspublic...  \n",
              "6  2023-02-05AfghanrefugeeinLondontoldtogiveupdoc...  \n",
              "7  2022-11-27ConcernforhealthofUkrainiansaboardSc...  \n",
              "8  2022-12-10AfghanrefugeefreedinGreeceaftertwoye...  \n",
              "9  2022-12-05UNrefugeebodycriticises‘errors’inasy...  "
            ],
            "text/html": [
              "\n",
              "  <div id=\"df-0859ce0d-cd83-4aba-b537-85ba0779720e\">\n",
              "    <div class=\"colab-df-container\">\n",
              "      <div>\n",
              "<style scoped>\n",
              "    .dataframe tbody tr th:only-of-type {\n",
              "        vertical-align: middle;\n",
              "    }\n",
              "\n",
              "    .dataframe tbody tr th {\n",
              "        vertical-align: top;\n",
              "    }\n",
              "\n",
              "    .dataframe thead th {\n",
              "        text-align: right;\n",
              "    }\n",
              "</style>\n",
              "<table border=\"1\" class=\"dataframe\">\n",
              "  <thead>\n",
              "    <tr style=\"text-align: right;\">\n",
              "      <th></th>\n",
              "      <th>Date</th>\n",
              "      <th>Headline</th>\n",
              "      <th>merged_text</th>\n",
              "      <th>id_new</th>\n",
              "    </tr>\n",
              "  </thead>\n",
              "  <tbody>\n",
              "    <tr>\n",
              "      <th>0</th>\n",
              "      <td>2022-08-23</td>\n",
              "      <td>Turkey’s rapprochement with Syria leaves regio...</td>\n",
              "      <td>&lt;p&gt;Syrians across the opposition and in the Ku...</td>\n",
              "      <td>2022-08-23Turkey’srapprochementwithSyrialeaves...</td>\n",
              "    </tr>\n",
              "    <tr>\n",
              "      <th>1</th>\n",
              "      <td>2023-01-20</td>\n",
              "      <td>US state department announces new refugee prog...</td>\n",
              "      <td>&lt;p&gt;The US state department has announced a new...</td>\n",
              "      <td>2023-01-20USstatedepartmentannouncesnewrefugee...</td>\n",
              "    </tr>\n",
              "    <tr>\n",
              "      <th>2</th>\n",
              "      <td>2023-01-26</td>\n",
              "      <td>Children go hungry at Kenya refugee camp as ma...</td>\n",
              "      <td>&lt;p&gt;Malnutrition among children in one of the w...</td>\n",
              "      <td>2023-01-26ChildrengohungryatKenyarefugeecampas...</td>\n",
              "    </tr>\n",
              "    <tr>\n",
              "      <th>3</th>\n",
              "      <td>2022-03-07</td>\n",
              "      <td>Syria, Afghanistan, Ukraine: how many refugee ...</td>\n",
              "      <td>&lt;p&gt;The province of Van, in the east of Turkey,...</td>\n",
              "      <td>2022-03-07Syria,Afghanistan,Ukraine:howmanyref...</td>\n",
              "    </tr>\n",
              "    <tr>\n",
              "      <th>4</th>\n",
              "      <td>2022-11-17</td>\n",
              "      <td>Firefighter arrested in Germany over refugee s...</td>\n",
              "      <td>&lt;p&gt;A fire that tore through a shelter for Ukra...</td>\n",
              "      <td>2022-11-17FirefighterarrestedinGermanyoverrefu...</td>\n",
              "    </tr>\n",
              "    <tr>\n",
              "      <th>5</th>\n",
              "      <td>2023-01-11</td>\n",
              "      <td>Shamima Begum says she understands public ange...</td>\n",
              "      <td>&lt;p&gt;Shamima Begum, who left Britain to join Isl...</td>\n",
              "      <td>2023-01-11ShamimaBegumsayssheunderstandspublic...</td>\n",
              "    </tr>\n",
              "    <tr>\n",
              "      <th>6</th>\n",
              "      <td>2023-02-05</td>\n",
              "      <td>Afghan refugee in London told to give up docto...</td>\n",
              "      <td>&lt;p&gt;A Chevening academic will be forced to give...</td>\n",
              "      <td>2023-02-05AfghanrefugeeinLondontoldtogiveupdoc...</td>\n",
              "    </tr>\n",
              "    <tr>\n",
              "      <th>7</th>\n",
              "      <td>2022-11-27</td>\n",
              "      <td>Concern for health of Ukrainians aboard Scotla...</td>\n",
              "      <td>&lt;p&gt;The physical and mental health of Ukrainian...</td>\n",
              "      <td>2022-11-27ConcernforhealthofUkrainiansaboardSc...</td>\n",
              "    </tr>\n",
              "    <tr>\n",
              "      <th>8</th>\n",
              "      <td>2022-12-10</td>\n",
              "      <td>Afghan refugee freed in Greece after two years...</td>\n",
              "      <td>&lt;p&gt;An imprisoned Afghan refugee wrongfully acc...</td>\n",
              "      <td>2022-12-10AfghanrefugeefreedinGreeceaftertwoye...</td>\n",
              "    </tr>\n",
              "    <tr>\n",
              "      <th>9</th>\n",
              "      <td>2022-12-05</td>\n",
              "      <td>UN refugee body criticises ‘errors’ in asylum ...</td>\n",
              "      <td>&lt;p&gt;A report partially endorsed by the UK home ...</td>\n",
              "      <td>2022-12-05UNrefugeebodycriticises‘errors’inasy...</td>\n",
              "    </tr>\n",
              "  </tbody>\n",
              "</table>\n",
              "</div>\n",
              "      <button class=\"colab-df-convert\" onclick=\"convertToInteractive('df-0859ce0d-cd83-4aba-b537-85ba0779720e')\"\n",
              "              title=\"Convert this dataframe to an interactive table.\"\n",
              "              style=\"display:none;\">\n",
              "        \n",
              "  <svg xmlns=\"http://www.w3.org/2000/svg\" height=\"24px\"viewBox=\"0 0 24 24\"\n",
              "       width=\"24px\">\n",
              "    <path d=\"M0 0h24v24H0V0z\" fill=\"none\"/>\n",
              "    <path d=\"M18.56 5.44l.94 2.06.94-2.06 2.06-.94-2.06-.94-.94-2.06-.94 2.06-2.06.94zm-11 1L8.5 8.5l.94-2.06 2.06-.94-2.06-.94L8.5 2.5l-.94 2.06-2.06.94zm10 10l.94 2.06.94-2.06 2.06-.94-2.06-.94-.94-2.06-.94 2.06-2.06.94z\"/><path d=\"M17.41 7.96l-1.37-1.37c-.4-.4-.92-.59-1.43-.59-.52 0-1.04.2-1.43.59L10.3 9.45l-7.72 7.72c-.78.78-.78 2.05 0 2.83L4 21.41c.39.39.9.59 1.41.59.51 0 1.02-.2 1.41-.59l7.78-7.78 2.81-2.81c.8-.78.8-2.07 0-2.86zM5.41 20L4 18.59l7.72-7.72 1.47 1.35L5.41 20z\"/>\n",
              "  </svg>\n",
              "      </button>\n",
              "      \n",
              "  <style>\n",
              "    .colab-df-container {\n",
              "      display:flex;\n",
              "      flex-wrap:wrap;\n",
              "      gap: 12px;\n",
              "    }\n",
              "\n",
              "    .colab-df-convert {\n",
              "      background-color: #E8F0FE;\n",
              "      border: none;\n",
              "      border-radius: 50%;\n",
              "      cursor: pointer;\n",
              "      display: none;\n",
              "      fill: #1967D2;\n",
              "      height: 32px;\n",
              "      padding: 0 0 0 0;\n",
              "      width: 32px;\n",
              "    }\n",
              "\n",
              "    .colab-df-convert:hover {\n",
              "      background-color: #E2EBFA;\n",
              "      box-shadow: 0px 1px 2px rgba(60, 64, 67, 0.3), 0px 1px 3px 1px rgba(60, 64, 67, 0.15);\n",
              "      fill: #174EA6;\n",
              "    }\n",
              "\n",
              "    [theme=dark] .colab-df-convert {\n",
              "      background-color: #3B4455;\n",
              "      fill: #D2E3FC;\n",
              "    }\n",
              "\n",
              "    [theme=dark] .colab-df-convert:hover {\n",
              "      background-color: #434B5C;\n",
              "      box-shadow: 0px 1px 3px 1px rgba(0, 0, 0, 0.15);\n",
              "      filter: drop-shadow(0px 1px 2px rgba(0, 0, 0, 0.3));\n",
              "      fill: #FFFFFF;\n",
              "    }\n",
              "  </style>\n",
              "\n",
              "      <script>\n",
              "        const buttonEl =\n",
              "          document.querySelector('#df-0859ce0d-cd83-4aba-b537-85ba0779720e button.colab-df-convert');\n",
              "        buttonEl.style.display =\n",
              "          google.colab.kernel.accessAllowed ? 'block' : 'none';\n",
              "\n",
              "        async function convertToInteractive(key) {\n",
              "          const element = document.querySelector('#df-0859ce0d-cd83-4aba-b537-85ba0779720e');\n",
              "          const dataTable =\n",
              "            await google.colab.kernel.invokeFunction('convertToInteractive',\n",
              "                                                     [key], {});\n",
              "          if (!dataTable) return;\n",
              "\n",
              "          const docLinkHtml = 'Like what you see? Visit the ' +\n",
              "            '<a target=\"_blank\" href=https://colab.research.google.com/notebooks/data_table.ipynb>data table notebook</a>'\n",
              "            + ' to learn more about interactive tables.';\n",
              "          element.innerHTML = '';\n",
              "          dataTable['output_type'] = 'display_data';\n",
              "          await google.colab.output.renderOutput(dataTable, element);\n",
              "          const docLink = document.createElement('div');\n",
              "          docLink.innerHTML = docLinkHtml;\n",
              "          element.appendChild(docLink);\n",
              "        }\n",
              "      </script>\n",
              "    </div>\n",
              "  </div>\n",
              "  "
            ]
          },
          "metadata": {},
          "execution_count": 34
        }
      ]
    },
    {
      "cell_type": "code",
      "source": [
        "# Select the rows where the 'Date' column is greater than or equal to '2010-01-01'\n",
        "df = df.loc[df['Date'] >= '2010-01-01']\n",
        "\n"
      ],
      "metadata": {
        "id": "1VQyWgVse4tu"
      },
      "execution_count": 36,
      "outputs": []
    },
    {
      "cell_type": "markdown",
      "source": [
        "### Parsing Corpus"
      ],
      "metadata": {
        "id": "zqS7ppq6j79n"
      }
    },
    {
      "cell_type": "markdown",
      "source": [
        "Creating an overview of the most common words to be able to remove scrape output words"
      ],
      "metadata": {
        "id": "NtcbLzCqkCEF"
      }
    },
    {
      "cell_type": "code",
      "source": [
        "# Concatenate all the strings in the 'merged_text' column into a single string\n",
        "all_text = ' '.join(df['merged_text'].values)\n",
        "\n",
        "# Use the Counter class from the collections module to count the occurrences of each word\n",
        "word_counts = Counter(all_text.split())\n",
        "\n",
        "# Get the 10000 most common words and their counts\n",
        "most_common = word_counts.most_common(10000)\n",
        "\n",
        "# Convert the results to a Pandas DataFrame for easier manipulation and printing\n",
        "most_common_df = pd.DataFrame(most_common, columns=['Word', 'Count'])\n",
        "\n",
        "# Print the DataFrame with the most common words and their counts in descending order\n",
        "print(most_common_df.sort_values('Count', ascending=False))"
      ],
      "metadata": {
        "colab": {
          "base_uri": "https://localhost:8080/"
        },
        "id": "CLhbKROaj-8k",
        "outputId": "24985ea9-2afb-4db9-e8c2-114853fefc83"
      },
      "execution_count": 39,
      "outputs": [
        {
          "output_type": "stream",
          "name": "stdout",
          "text": [
            "             Word    Count\n",
            "0             the  1587020\n",
            "1              to   882290\n",
            "2              of   778210\n",
            "3             and   666153\n",
            "4              in   623796\n",
            "...           ...      ...\n",
            "9975       today?      227\n",
            "9974    outspoken      227\n",
            "9973          owe      227\n",
            "9972  demographic      227\n",
            "9999     favoured      227\n",
            "\n",
            "[10000 rows x 2 columns]\n"
          ]
        }
      ]
    },
    {
      "cell_type": "code",
      "source": [
        "#most_common_df.to_csv('/content/drive/MyDrive/code_file/preprocessing/syria__most_common_10000.csv')"
      ],
      "metadata": {
        "id": "i_Tk4oeVkMrD"
      },
      "execution_count": 40,
      "outputs": []
    },
    {
      "cell_type": "code",
      "source": [
        "# Define a function to clean the text\n",
        "def clean_text(text):\n",
        "    \n",
        "    # Remove inline frame element - REMOVE\n",
        "    text = re.sub(r'<iframe.*?</iframe>', '', text, flags=re.DOTALL)\n",
        "\n",
        "     # Remove specified text\n",
        "    patterns = r'\\b(p|dataatomidbddcbffdabfcfcfbe|href|blockquote|span|class|element|element-image_caption|element-image_credit|figcaption|liststrong|Photo/Rodrigo|ADVERTISEMENT|element--supporting|Photo/Evgeniy|element-rich-link|copyright|element--showcase|AD-FREE,|meterActive/meterExpired|Photo/Vadim|VideoWhy|/PRNewswire/|itemV1|data-interactive|element-interactive|allowfullscreen=\"true\"|data-atom-type=\"media\"|element-atom|gu-atom|class=\"twitter-tweet\"p|auto-generated|class=\"timezone\"BST/span/time|class=\"quoted|class=\"gu-image\"|class=\"/figcaption\"|class=\"timezone\"GMT/span/time|class=\"block\"|data-block-contributor=\"\"|class=\"block-elements\"|class=\"element|href)\\b'\n",
        "    text = re.sub(patterns, '', text)\n",
        "    \n",
        "    # Remove <p>\n",
        "    text = re.sub(r'<p>', '', text)\n",
        "    text = re.sub(r'</p>', '', text)\n",
        "    text = re.sub(r'<p/>', '', text)\n",
        "    text = re.sub(r'/p', '', text)\n",
        "\n",
        "    # Remove HTML tags\n",
        "    text = re.sub(r'<.*?>', '', text)\n",
        "    \n",
        "    # Remove '@' symbols\n",
        "    text = re.sub(r'@', '', text)\n",
        "    \n",
        "    # Remove links\n",
        "    text = re.sub(r'http\\S+', '', text)\n",
        "    \n",
        "    # Remove emojis\n",
        "    text = text.encode('ascii', 'ignore').decode('ascii')\n",
        "    \n",
        "   \n",
        "    return text"
      ],
      "metadata": {
        "id": "OXo0W9jGkiHP"
      },
      "execution_count": 41,
      "outputs": []
    },
    {
      "cell_type": "code",
      "source": [
        "# Running clean_text on dataframe and appending the cleaned text to a new clumn parsing_corpus in the dataframe\n",
        "df['parsing_corpus'] = df['merged_text'].apply(clean_text)"
      ],
      "metadata": {
        "id": "EZrga-pTkmpM"
      },
      "execution_count": 45,
      "outputs": []
    },
    {
      "cell_type": "code",
      "source": [
        "df['parsing_corpus'].head(5)\n"
      ],
      "metadata": {
        "colab": {
          "base_uri": "https://localhost:8080/"
        },
        "id": "q36jLoZ0kp93",
        "outputId": "d6dc1c7b-59b8-4092-ef58-551278fd6778"
      },
      "execution_count": 46,
      "outputs": [
        {
          "output_type": "execute_result",
          "data": {
            "text/plain": [
              "0    Syrians across the opposition and in the Kurdi...\n",
              "1    The US state department has announced a new re...\n",
              "2    Malnutrition among children in one of the worl...\n",
              "3    The province of Van, in the east of Turkey, is...\n",
              "4    A fire that tore through a shelter for Ukraini...\n",
              "Name: parsing_corpus, dtype: object"
            ]
          },
          "metadata": {},
          "execution_count": 46
        }
      ]
    },
    {
      "cell_type": "markdown",
      "source": [
        "### Frame Identification Corpus"
      ],
      "metadata": {
        "id": "ICG3umzCk5bI"
      }
    },
    {
      "cell_type": "code",
      "source": [
        "import nltk\n",
        "nltk.download('punkt')\n",
        "nltk.download('stopwords')\n",
        "nltk.download('wordnet')\n",
        "from nltk.tokenize import word_tokenize\n",
        "from nltk.corpus import stopwords\n",
        "from nltk.stem import WordNetLemmatizer\n",
        "\n",
        "def tokenization(df_col):\n",
        "    \"\"\"\n",
        "    Takes a list with strings and returns a list with tokens\n",
        "    \"\"\"\n",
        "    print(\"Tokenizing articles...\\n\")\n",
        "    return df_col.apply(lambda x: word_tokenize(x))\n",
        "\n",
        "\n",
        "def lowercase(df_col):\n",
        "    \"\"\"\n",
        "    #Returns all tokens in lowercase.\n",
        "    \"\"\"\n",
        "    print(\"Making all words lowercase...\\n\")\n",
        "    return df_col.apply(lambda x: [token.lower() for token in x])\n",
        "\n",
        "\n",
        "def only_alphabetic(df_col):\n",
        "    \"\"\"\n",
        "    Keeps only tokens which are alphabetic or an underscore and returns them.\n",
        "    \"\"\"\n",
        "    print(\"Removing all non-alphabetic words...\\n\")\n",
        "    return df_col.apply(lambda x: [token for token in x if re.match(\"^[a-zA-Z0_]*$\", token)])\n",
        "\n",
        "\n",
        "stop_words = set(stopwords.words('english'))\n",
        "\"\"\"stop_words.update([\"refugee\",\"refugees\",\"migrant\",\"migrants\",\"immigrant\",\"immigrants\",\n",
        "                   \"like\", \"would\",\"want\",\"take\",\"must\",\"well\",\"could\",\"even\",\"since\",\n",
        "                   \"also\",\"know\"])\"\"\"\n",
        "\n",
        "def stopword_removal(df_col):\n",
        "    \"\"\"\n",
        "    Removes all words considered as stopwords and all words that have a length of three or less.\n",
        "    \"\"\"\n",
        "    \n",
        "    print(\"Removing Stopwords...\\n\")\n",
        "\n",
        "    return df_col.apply(lambda x: [token for token in x if token not in stop_words and len(token) > 3])\n",
        "\n",
        "\n",
        "def lemmatization(df_col):\n",
        "    \"\"\"\n",
        "    Applies lemmatization to all tokens and returns them afterwards.\n",
        "    \"\"\"\n",
        "    \n",
        "    print(\"Lemmatizing words...\\n\")\n",
        "    lemmatizer = WordNetLemmatizer()\n",
        "    return df_col.apply(lambda x: [lemmatizer.lemmatize(token) for token in x])\n",
        "\n",
        "def preprocessing(df_col, *steps):\n",
        "    \"\"\"\n",
        "    Takes in a dataframe column with text and applies preprocessing steps given \n",
        "    in and returns a string.\n",
        "    \n",
        "    Input:\n",
        "    - df (dataframe): The dataframe containing the text column.\n",
        "    - steps (functions): Multiple functions for preprocessing can be given in.\n",
        "    \n",
        "    Output:\n",
        "    - List with strings.\n",
        "    \"\"\"\n",
        "    # copying over the column for preprocessing\n",
        "    temp = df_col.copy()\n",
        "    for func in steps:\n",
        "        temp = func(temp)\n",
        "    return temp.apply(lambda x: \" \".join([token for token in x]))"
      ],
      "metadata": {
        "colab": {
          "base_uri": "https://localhost:8080/"
        },
        "id": "A9h4leXUk1rw",
        "outputId": "0b7d14c1-4bdb-408f-9d2f-ac6bdec21934"
      },
      "execution_count": 47,
      "outputs": [
        {
          "output_type": "stream",
          "name": "stderr",
          "text": [
            "[nltk_data] Downloading package punkt to /root/nltk_data...\n",
            "[nltk_data]   Unzipping tokenizers/punkt.zip.\n",
            "[nltk_data] Downloading package stopwords to /root/nltk_data...\n",
            "[nltk_data]   Unzipping corpora/stopwords.zip.\n",
            "[nltk_data] Downloading package wordnet to /root/nltk_data...\n"
          ]
        }
      ]
    },
    {
      "cell_type": "code",
      "source": [
        "df[\"frame_identification_corpus\"] = preprocessing(df[\"parsing_corpus\"],\n",
        "                                            tokenization,\n",
        "                                            lowercase,\n",
        "                                            only_alphabetic,\n",
        "                                            stopword_removal,\n",
        "                                            lemmatization)"
      ],
      "metadata": {
        "colab": {
          "base_uri": "https://localhost:8080/"
        },
        "id": "N4UIpKO6lDTe",
        "outputId": "63859099-32b3-4d6b-ee82-6c955ac98cbf"
      },
      "execution_count": 48,
      "outputs": [
        {
          "output_type": "stream",
          "name": "stdout",
          "text": [
            "Tokenizing articles...\n",
            "\n",
            "Making all words lowercase...\n",
            "\n",
            "Removing all non-alphabetic words...\n",
            "\n",
            "Removing Stopwords...\n",
            "\n",
            "Lemmatizing words...\n",
            "\n"
          ]
        }
      ]
    },
    {
      "cell_type": "code",
      "source": [
        "for i,line in df[[\"merged_text\",\"parsing_corpus\",\"frame_identification_corpus\"]].sample(1).iterrows():\n",
        "    print(line[\"merged_text\"])\n",
        "    print(\"---\")\n",
        "    print(line[\"parsing_corpus\"])\n",
        "    print(\"---\")\n",
        "    print(line[\"frame_identification_corpus\"])\n",
        "    print(\"-----------------------------------\")"
      ],
      "metadata": {
        "colab": {
          "base_uri": "https://localhost:8080/"
        },
        "id": "o26SCAt9lQ3B",
        "outputId": "4c1fab7f-1d48-4ecd-b783-7bbaf9e16db3"
      },
      "execution_count": 56,
      "outputs": [
        {
          "output_type": "stream",
          "name": "stdout",
          "text": [
            "<p><em>The authors of this article are the current and the three former presidents of the National Coalition of Syrian Revolution and Opposition Forces</em></p> <p>Terror has returned to the streets <a href=\"http://www.theguardian.com/world/paris-attacks\" title=\"\">of Paris</a>. So, too, has the realisation that <a href=\"http://www.theguardian.com/commentisfree/2015/nov/20/repercussions-syria-collapse-paris-attack-refugee\" title=\"\">international efforts</a> to defeat terrorism are failing. <a href=\"http://www.theguardian.com/world/isis\" title=\"\">Islamic State</a> is emboldened. Terror attacks continue. And innocent civilians pay the ultimate price. As the presidents of Syria’s main opposition group — the Syrian National Coalition — we’ve watched the violence in Syria destroy our nation, infest the region, and now, threaten peace and security in Europe. Today we say “enough is enough”. It’s time to face the facts: the haphazard approach to the crisis in Syria has been a disaster. Comprehensive solutions are needed that can end the war in Syria and destroy terrorist groups such as Isis once and for all. This week, we have a chance to achieve precisely that.</p> <aside class=\"element element-rich-link element--thumbnail\"> <p> <span>Related: </span><a href=\"http://www.theguardian.com/commentisfree/2015/nov/20/repercussions-syria-collapse-paris-attack-refugee\">What are the global repercussions of Syria’s collapse? | Vladimir Frolov, Frederic C Hof, Michael Herzog, Hossein Derakhshan, Gencer Özkan, Pierre Haski</a> </p> </aside>  <p>A new round of Syria peace talks are <a href=\"http://www.theguardian.com/world/2015/oct/30/syria-peace-talks-vienna-iran-saudi-arabia\" title=\"\">under way in Vienna</a>. If properly conducted, these talks could help achieve a sustainable end to the crisis in Syria, and an effective approach to tackling Isis. But to do so, world leaders must recognise that the two come hand-in-hand. To achieve a political solution we must defeat Isis, and to defeat Isis we must achieve a political transition in Syria.</p> <p>The Syrian National Coalition has long maintained that to achieve a transition in Syria, we must have an effective plan to fight terrorism. That is why during <a href=\"http://www.theguardian.com/world/2014/jan/19/syrian-national-coalition-agrees-peace-talks\" title=\"\">peace talks</a> in Geneva in 2014, we stated clearly that we were ready and willing to conduct parallel and simultaneous talks on the two key issues of forming a transitional governing body and fighting terrorism. But then — as now — Assad was not interested. Despite his claims to want to counter terror, he did everything in his power to scuttle the talks and increase the scale of the killing across Syria. As he did, the threat posed by terrorists grew, and Syria subsequently became a safe-haven for Isis.</p> <p>Let us be clear: Assad never has been, nor will ever be, an alternative to Isis. He will never bring peace to Syria, nor will he ever be capable of taking on extremists. There is no capacity on the regime’s side to regain control and restore stability to the country. Moderate forces of the opposition are the only forces that have proved capable of combating Isis and winning back territory, as the Free Syrian Army (FSA) did in 2013. But, thanks to the failure of our western partners, Syria’s moderates are deeply under-resourced. Despite our repeated appeals, we never received the support needed from our friends.</p> <p>The only way to effectively take on Isis is to create a ground force capable of fighting terror and stabilising the country. With proper support, such a force could eradicate the Isis terror nest in Raqqa. But this will only happen when we formulate a political plan that ensures a transition away from Syria’s current leadership and state clearly that the end game is Assad’s exit from power. By exit we mean a genuine end to the Assad family’s rule and a consistent plan for the transformation of Syria’s deeply corrupt security sector - in stark contrast to the precedent set by Yemen, where Ali Abdullah Saleh was <a href=\"http://www.theguardian.com/commentisfree/2011/nov/24/yemen-ali-abdullah-saleh-resigns\" title=\"\">allowed to remain</a> head of his political party and in de facto charge of the security apparatus, with <a href=\"http://www.theguardian.com/commentisfree/2015/oct/26/yemen-war-journalists-silenced-conflict-reporters-activists-abduction-torture\" title=\"\">terrible consequences</a> for the country.</p> <aside class=\"element element-rich-link element--thumbnail\"> <p> <span>Related: </span><a href=\"http://www.theguardian.com/commentisfree/2015/nov/19/vienna-talks-syria-security-settlement-region\">The Vienna talks on Syria are a start. We need a leap of imagination to go on | John Jenkins</a> </p> </aside>  <p>Under the aforementioned conditions, the opposition would work with Syrian government organisations to restore basic services and the FSA would willingly concentrate its efforts on defeating Isis. De facto cooperation would occur with the units of the Syrian national army that are not tied directly to the Assad family. The FSA, together with these army units from which identified criminal officers have been removed, would form the two natural components of an indigenous force dedicated to fighting Isis and any combination of forces that aims to destabilise the country. Such a force would provide the international community’s best chance to defeat Isis. But to do so, Russia must stop its targeting of Syrian moderate opposition strongholds and end its attacks on FSA forces - attacks that have only made Isis stronger and served to kill innocent civilians. Russia must also stop its misguided insistence on keeping Assad in power. If and when Russia abandons this position, it will find the political opposition ready to cooperate. A powerful, effective centrist grouping of opposition members and institutions of government could be formed without Assad and his immediate cronies, capable of stabilising the country and carrying on the fight against Isis.</p> <p>Underpinning this approach – and in order to make the path to political transition viable – is the urgent necessity to stop the indiscriminate aerial bombardments that remain the primary driver of insecurity across Syria. The protection of civilians must be at the centre of any political process, including at Vienna. So too must Syrians themselves. It will be up to Syrians to implement a peace, and so it should up to Syrians to lead the political process. And Syrians are abundantly clear: Assad cannot be part of a future, democratic Syria. Only by removing Assad can we save what remains of the Syrian state and effectively tackle terrorism so that Syria - and the world - can be safe once more.</p>\n",
            "---\n",
            "The authors of this article are the current and the three former presidents of the National Coalition of Syrian Revolution and Opposition Forces Terror has returned to the streets of Paris. So, too, has the realisation that international efforts to defeat terrorism are failing. Islamic State is emboldened. Terror attacks continue. And innocent civilians pay the ultimate price. As the presidents of Syrias main opposition group  the Syrian National Coalition  weve watched the violence in Syria destroy our nation, infest the region, and now, threaten peace and security in Europe. Today we say enough is enough. Its time to face the facts: the haphazard approach to the crisis in Syria has been a disaster. Comprehensive solutions are needed that can end the war in Syria and destroy terrorist groups such as Isis once and for all. This week, we have a chance to achieve precisely that.   Related: What are the global repercussions of Syrias collapse? | Vladimir Frolov, Frederic C Hof, Michael Herzog, Hossein Derakhshan, Gencer zkan, Pierre Haski    A new round of Syria peace talks are under way in Vienna. If properly conducted, these talks could help achieve a sustainable end to the crisis in Syria, and an effective approach to tackling Isis. But to do so, world leaders must recognise that the two come hand-in-hand. To achieve a political solution we must defeat Isis, and to defeat Isis we must achieve a political transition in Syria. The Syrian National Coalition has long maintained that to achieve a transition in Syria, we must have an effective plan to fight terrorism. That is why during peace talks in Geneva in 2014, we stated clearly that we were ready and willing to conduct parallel and simultaneous talks on the two key issues of forming a transitional governing body and fighting terrorism. But then  as now  Assad was not interested. Despite his claims to want to counter terror, he did everything in his power to scuttle the talks and increase the scale of the killing across Syria. As he did, the threat posed by terrorists grew, and Syria subsequently became a safe-haven for Isis. Let us be clear: Assad never has been, nor will ever be, an alternative to Isis. He will never bring peace to Syria, nor will he ever be capable of taking on extremists. There is no capacity on the regimes side to regain control and restore stability to the country. Moderate forces of the opposition are the only forces that have proved capable of combating Isis and winning back territory, as the Free Syrian Army (FSA) did in 2013. But, thanks to the failure of our western partners, Syrias moderates are deeply under-resourced. Despite our repeated appeals, we never received the support needed from our friends. The only way to effectively take on Isis is to create a ground force capable of fighting terror and stabilising the country. With proper support, such a force could eradicate the Isis terror nest in Raqqa. But this will only happen when we formulate a political plan that ensures a transition away from Syrias current leadership and state clearly that the end game is Assads exit from power. By exit we mean a genuine end to the Assad familys rule and a consistent plan for the transformation of Syrias deeply corrupt security sector - in stark contrast to the precedent set by Yemen, where Ali Abdullah Saleh was allowed to remain head of his political party and in de facto charge of the security apparatus, with terrible consequences for the country.   Related: The Vienna talks on Syria are a start. We need a leap of imagination to go on | John Jenkins    Under the aforementioned conditions, the opposition would work with Syrian government organisations to restore basic services and the FSA would willingly concentrate its efforts on defeating Isis. De facto cooperation would occur with the units of the Syrian national army that are not tied directly to the Assad family. The FSA, together with these army units from which identified criminal officers have been removed, would form the two natural components of an indigenous force dedicated to fighting Isis and any combination of forces that aims to destabilise the country. Such a force would provide the international communitys best chance to defeat Isis. But to do so, Russia must stop its targeting of Syrian moderate opposition strongholds and end its attacks on FSA forces - attacks that have only made Isis stronger and served to kill innocent civilians. Russia must also stop its misguided insistence on keeping Assad in power. If and when Russia abandons this position, it will find the political opposition ready to cooperate. A powerful, effective centrist grouping of opposition members and institutions of government could be formed without Assad and his immediate cronies, capable of stabilising the country and carrying on the fight against Isis. Underpinning this approach  and in order to make the path to political transition viable  is the urgent necessity to stop the indiscriminate aerial bombardments that remain the primary driver of insecurity across Syria. The protection of civilians must be at the centre of any political process, including at Vienna. So too must Syrians themselves. It will be up to Syrians to implement a peace, and so it should up to Syrians to lead the political process. And Syrians are abundantly clear: Assad cannot be part of a future, democratic Syria. Only by removing Assad can we save what remains of the Syrian state and effectively tackle terrorism so that Syria - and the world - can be safe once more.\n",
            "---\n",
            "author article current three former president national coalition syrian revolution opposition force terror returned street paris realisation international effort defeat terrorism failing islamic state emboldened terror attack continue innocent civilian ultimate price president syria main opposition group syrian national coalition weve watched violence syria destroy nation infest region threaten peace security europe today enough enough time face fact haphazard approach crisis syria disaster comprehensive solution needed syria destroy terrorist group isi week chance achieve precisely related global repercussion syria collapse vladimir frolov frederic michael herzog hossein derakhshan gencer zkan pierre haski round syria peace talk vienna properly conducted talk could help achieve sustainable crisis syria effective approach tackling isi world leader must recognise come achieve political solution must defeat isi defeat isi must achieve political transition syria syrian national coalition long maintained achieve transition syria must effective plan fight terrorism peace talk geneva stated clearly ready willing conduct parallel simultaneous talk issue forming transitional governing body fighting terrorism assad interested despite claim want counter terror everything power scuttle talk increase scale killing across syria threat posed terrorist grew syria subsequently became isi clear assad never ever alternative isi never bring peace syria ever capable taking extremist capacity regime side regain control restore stability country moderate force opposition force proved capable combating isi winning back territory free syrian army thanks failure western partner syria moderate deeply despite repeated appeal never received support needed friend effectively take isi create ground force capable fighting terror stabilising country proper support force could eradicate isi terror nest raqqa happen formulate political plan ensures transition away syria current leadership state clearly game assads exit power exit mean genuine assad family rule consistent plan transformation syria deeply corrupt security sector stark contrast precedent yemen abdullah saleh allowed remain head political party facto charge security apparatus terrible consequence country related vienna talk syria start need leap imagination john jenkins aforementioned condition opposition would work syrian government organisation restore basic service would willingly concentrate effort defeating isi facto cooperation would occur unit syrian national army tied directly assad family together army unit identified criminal officer removed would form natural component indigenous force dedicated fighting isi combination force aim destabilise country force would provide international community best chance defeat isi russia must stop targeting syrian moderate opposition stronghold attack force attack made isi stronger served kill innocent civilian russia must also stop misguided insistence keeping assad power russia abandon position find political opposition ready cooperate powerful effective centrist grouping opposition member institution government could formed without assad immediate crony capable stabilising country carrying fight isi underpinning approach order make path political transition viable urgent necessity stop indiscriminate aerial bombardment remain primary driver insecurity across syria protection civilian must centre political process including vienna must syrian syrian implement peace syrian lead political process syrian abundantly clear assad part future democratic syria removing assad save remains syrian state effectively tackle terrorism syria world safe\n",
            "-----------------------------------\n"
          ]
        }
      ]
    },
    {
      "cell_type": "markdown",
      "source": [
        "### Final Removal of Duplicates "
      ],
      "metadata": {
        "id": "ETNirXjhli78"
      }
    },
    {
      "cell_type": "code",
      "source": [
        "# Remove duplicates\n",
        "df.drop_duplicates(subset=['parsing_corpus'], inplace=True)\n",
        "df.drop_duplicates(subset=['frame_identification_corpus'], inplace=True)"
      ],
      "metadata": {
        "id": "3eoc181CloXa"
      },
      "execution_count": 57,
      "outputs": []
    },
    {
      "cell_type": "code",
      "source": [
        "df.count()"
      ],
      "metadata": {
        "colab": {
          "base_uri": "https://localhost:8080/"
        },
        "id": "qWmJmnxblq82",
        "outputId": "135f555c-cdf5-4445-b5d8-169acc8266ff"
      },
      "execution_count": 58,
      "outputs": [
        {
          "output_type": "execute_result",
          "data": {
            "text/plain": [
              "Date                           20894\n",
              "Headline                       20894\n",
              "merged_text                    20894\n",
              "id_new                         20894\n",
              "parsing_corpus                 20894\n",
              "frame_identification_corpus    20894\n",
              "dtype: int64"
            ]
          },
          "metadata": {},
          "execution_count": 58
        }
      ]
    },
    {
      "cell_type": "code",
      "source": [
        "df.to_csv(\"/content/drive/MyDrive/code_file/preprocessing/syria_complete.csv\")"
      ],
      "metadata": {
        "id": "e29yG31Nltiw"
      },
      "execution_count": 59,
      "outputs": []
    },
    {
      "cell_type": "code",
      "source": [],
      "metadata": {
        "id": "NrFqPwK6nUez"
      },
      "execution_count": null,
      "outputs": []
    }
  ]
}