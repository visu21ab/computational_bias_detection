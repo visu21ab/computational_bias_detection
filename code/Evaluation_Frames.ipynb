{
  "nbformat": 4,
  "nbformat_minor": 0,
  "metadata": {
    "colab": {
      "provenance": [],
      "mount_file_id": "1tOQi6clS_PypD7geyeW1yu0RTPHfelXB",
      "authorship_tag": "ABX9TyNBMBLf6aRg0PpWiRKYSZHD",
      "include_colab_link": true
    },
    "kernelspec": {
      "name": "python3",
      "display_name": "Python 3"
    },
    "language_info": {
      "name": "python"
    }
  },
  "cells": [
    {
      "cell_type": "markdown",
      "metadata": {
        "id": "view-in-github",
        "colab_type": "text"
      },
      "source": [
        "<a href=\"https://colab.research.google.com/github/visu21ab/computational_bias_detection/blob/main/Evaluation_Frames_jpynb.ipynb\" target=\"_parent\"><img src=\"https://colab.research.google.com/assets/colab-badge.svg\" alt=\"Open In Colab\"/></a>"
      ]
    },
    {
      "cell_type": "markdown",
      "source": [
        "# Evaluation"
      ],
      "metadata": {
        "id": "RvYs5H4s3FVL"
      }
    },
    {
      "cell_type": "markdown",
      "source": [
        "pre-requisite files:\n",
        "- sample of 1000 rows frmo ukraine dataset annotated with frames \n",
        "- sample of 1000 rows frmo ukraine dataset with predicted frames \n"
      ],
      "metadata": {
        "id": "OYleMB_13H-H"
      }
    },
    {
      "cell_type": "code",
      "source": [
        "# Import requiered packages\n",
        "import pandas as pd\n",
        "import numpy as np\n",
        "import seaborn as sns\n",
        "from sklearn import metrics\n",
        "import matplotlib.pyplot as plt\n",
        "import scienceplots\n",
        "\n",
        "from sklearn.metrics import classification_report, confusion_matrix"
      ],
      "metadata": {
        "id": "B5FFNjKdRBxy"
      },
      "execution_count": 141,
      "outputs": []
    },
    {
      "cell_type": "code",
      "source": [
        "# Set scienceplot style\n",
        "plt.style.use(['science', 'no-latex'])\n",
        "plt.rcParams['figure.figsize'] = (6.4, 4.8)"
      ],
      "metadata": {
        "id": "MynLDBx3RN9V"
      },
      "execution_count": 144,
      "outputs": []
    },
    {
      "cell_type": "code",
      "source": [
        "# Read the data\n",
        "data_pred = pd.read_csv('drive/MyDrive/Master Thesis/ukraine_predicted_frames.csv')\n",
        "data_true = pd.read_csv('drive/MyDrive/Master Thesis/ukraine_annotated_frames.csv')"
      ],
      "metadata": {
        "id": "2OwpENP1KziJ"
      },
      "execution_count": 145,
      "outputs": []
    },
    {
      "cell_type": "code",
      "source": [
        "data_true.count()"
      ],
      "metadata": {
        "colab": {
          "base_uri": "https://localhost:8080/"
        },
        "id": "Ev0-2UlATHNT",
        "outputId": "b7e3dca1-ae75-409b-fb43-c930be2bb482"
      },
      "execution_count": 150,
      "outputs": [
        {
          "output_type": "execute_result",
          "data": {
            "text/plain": [
              "Date                           1000\n",
              "Headline                       1000\n",
              "merged_text                    1000\n",
              "id                             1000\n",
              "parsing_corpus                 1000\n",
              "frame_identification_corpus    1000\n",
              "Frames                         1000\n",
              "dtype: int64"
            ]
          },
          "metadata": {},
          "execution_count": 150
        }
      ]
    },
    {
      "cell_type": "code",
      "source": [
        "data_pred.count()"
      ],
      "metadata": {
        "colab": {
          "base_uri": "https://localhost:8080/"
        },
        "id": "SQuW_BAnU9aJ",
        "outputId": "9ac97274-2b79-40f8-d7f4-6935906702c5"
      },
      "execution_count": 151,
      "outputs": [
        {
          "output_type": "execute_result",
          "data": {
            "text/plain": [
              "Date                           1000\n",
              "Headline                       1000\n",
              "merged_text                    1000\n",
              "id                             1000\n",
              "parsing_corpus                 1000\n",
              "frame_identification_corpus    1000\n",
              "Frames                         1000\n",
              "dtype: int64"
            ]
          },
          "metadata": {},
          "execution_count": 151
        }
      ]
    },
    {
      "cell_type": "code",
      "source": [
        "# Get the true labels and predicted labels for the data_pred dataset\n",
        "y_true_pred = data_pred['Frames']\n",
        "\n",
        "# Get the true labels and predicted labels for the data_true dataset\n",
        "y_true_true = data_true['Frames']\n",
        "\n",
        "# Calculate and print classification reports for the two datasets\n",
        "print(\"Classification report for data_pred:\")\n",
        "print(classification_report(y_true_true, y_true_pred))\n"
      ],
      "metadata": {
        "id": "XuosWfO-O37P",
        "colab": {
          "base_uri": "https://localhost:8080/"
        },
        "outputId": "059158c6-dc54-4a04-b086-17c880e9dbc3"
      },
      "execution_count": 154,
      "outputs": [
        {
          "output_type": "stream",
          "name": "stdout",
          "text": [
            "Classification report for data_pred:\n",
            "                                  precision    recall  f1-score   support\n",
            "\n",
            "      Displacement, Displacement       0.00      0.00      0.00         9\n",
            "      Displacement, Humanitarian       0.00      0.00      0.00        11\n",
            "         Displacement, Political       0.00      0.00      0.00         4\n",
            "          Displacement, Violence       0.00      0.00      0.00         9\n",
            "      Humanitarian, Displacement       0.00      0.00      0.00         6\n",
            "      Humanitarian, Humanitarian       0.00      0.00      0.00        13\n",
            "         Humanitarian, Political       0.00      0.00      0.00         9\n",
            "          Humanitarian, Violence       0.00      0.00      0.00         7\n",
            "         Political, Displacement       0.00      0.00      0.00         6\n",
            "         Political, Humanitarian       0.00      0.00      0.00         6\n",
            "            Political, Political       0.00      0.00      0.00         5\n",
            "             Political, Violence       0.00      0.00      0.00         4\n",
            "          Violence, Displacement       0.00      0.00      0.00         9\n",
            "          Violence, Humanitarian       0.00      0.00      0.00         8\n",
            "             Violence, Political       0.00      0.00      0.00         8\n",
            "              Violence, Violence       0.00      0.00      0.00        11\n",
            "['Displacement', 'Humanitarian']       0.79      1.00      0.89        58\n",
            "   ['Displacement', 'Political']       0.82      1.00      0.90        23\n",
            "    ['Displacement', 'Violence']       0.90      1.00      0.95        18\n",
            "['Humanitarian', 'Displacement']       0.88      1.00      0.93       220\n",
            "   ['Humanitarian', 'Political']       0.89      1.00      0.94       209\n",
            "    ['Humanitarian', 'Violence']       0.88      1.00      0.94        80\n",
            "   ['Political', 'Displacement']       0.90      1.00      0.95        45\n",
            "   ['Political', 'Humanitarian']       0.85      1.00      0.92        69\n",
            "       ['Political', 'Violence']       0.96      1.00      0.98        27\n",
            "    ['Violence', 'Displacement']       0.87      1.00      0.93        54\n",
            "    ['Violence', 'Humanitarian']       0.88      1.00      0.94        36\n",
            "       ['Violence', 'Political']       0.90      1.00      0.95        36\n",
            "\n",
            "                        accuracy                           0.88      1000\n",
            "                       macro avg       0.38      0.43      0.40      1000\n",
            "                    weighted avg       0.77      0.88      0.82      1000\n",
            "\n"
          ]
        },
        {
          "output_type": "stream",
          "name": "stderr",
          "text": [
            "/usr/local/lib/python3.10/dist-packages/sklearn/metrics/_classification.py:1344: UndefinedMetricWarning: Precision and F-score are ill-defined and being set to 0.0 in labels with no predicted samples. Use `zero_division` parameter to control this behavior.\n",
            "  _warn_prf(average, modifier, msg_start, len(result))\n",
            "/usr/local/lib/python3.10/dist-packages/sklearn/metrics/_classification.py:1344: UndefinedMetricWarning: Precision and F-score are ill-defined and being set to 0.0 in labels with no predicted samples. Use `zero_division` parameter to control this behavior.\n",
            "  _warn_prf(average, modifier, msg_start, len(result))\n",
            "/usr/local/lib/python3.10/dist-packages/sklearn/metrics/_classification.py:1344: UndefinedMetricWarning: Precision and F-score are ill-defined and being set to 0.0 in labels with no predicted samples. Use `zero_division` parameter to control this behavior.\n",
            "  _warn_prf(average, modifier, msg_start, len(result))\n"
          ]
        }
      ]
    },
    {
      "cell_type": "code",
      "source": [],
      "metadata": {
        "id": "6r_EM5AFY-Ig"
      },
      "execution_count": null,
      "outputs": []
    }
  ]
}
