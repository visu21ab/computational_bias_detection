{
  "nbformat": 4,
  "nbformat_minor": 0,
  "metadata": {
    "colab": {
      "provenance": [],
      "name": "Sentiment and frame annotation.ipynb",
      "mount_file_id": "https://github.com/visu21ab/Refugee_project/blob/main/Sentiment_and_frame_annotation.ipynb",
      "authorship_tag": "ABX9TyOLtR+rM3+eO05sF9so/9jU",
      "include_colab_link": true
    },
    "kernelspec": {
      "name": "python3",
      "display_name": "Python 3"
    },
    "language_info": {
      "name": "python"
    }
  },
  "cells": [
    {
      "cell_type": "markdown",
      "metadata": {
        "id": "view-in-github",
        "colab_type": "text"
      },
      "source": [
        "<a href=\"https://colab.research.google.com/github/visu21ab/computational_bias_detection/blob/main/frame_annotation.ipynb\" target=\"_parent\"><img src=\"https://colab.research.google.com/assets/colab-badge.svg\" alt=\"Open In Colab\"/></a>"
      ]
    },
    {
      "cell_type": "markdown",
      "source": [
        "pre-requisite files\n",
        "- Merged dataset of syria balanced file and ukraine balanced file\n",
        "\n",
        "Annotate full dataset with frames based on number of seed words in frame_identification_corpus"
      ],
      "metadata": {
        "id": "avByqKMXbxF0"
      }
    },
    {
      "cell_type": "code",
      "execution_count": 1,
      "metadata": {
        "id": "nlnPcG6GRulH"
      },
      "outputs": [],
      "source": [
        "import tensorflow\n",
        "import pandas as pd"
      ]
    },
    {
      "cell_type": "code",
      "source": [
        "# Define the seed words for each frame\n",
        "political_words = ['government', 'president', 'minister', 'official', 'leader', 'member', 'regime', 'power', 'political', 'service', 'policy', 'council', 'plan', 'sanction', 'agency', 'office', 'secretary', 'system', 'public', 'authority']\n",
        "displacement_words = ['city', 'state', 'home', 'border', 'international', 'foreign', 'united', 'house', 'region', 'area', 'national', 'community', 'local', 'west', 'town', 'peace']\n",
        "humanitarian_words = ['people', 'child', 'support', 'family', 'help', 'group', 'need', 'work', 'woman', 'report', 'life', 'crisis', 'conflict', 'call', 'human', 'party', 'food', 'action', 'issue', 'situation', 'opposition', 'statement', 'effort', 'change', 'company', 'supply', 'response']\n",
        "violence_words = ['force', 'military', 'attack', 'security', 'invasion', 'civilian', 'killed', 'humanitarian', 'weapon', 'troop', 'fighting', 'police', 'camp', 'strike', 'missile', 'army']\n",
        "\n",
        "# Read in the dataframe\n",
        "df = pd.read_csv('drive/MyDrive/Master Thesis/general_complete.csv')\n",
        "\n",
        "# Create new columns for each frame and initialize to 0\n",
        "df['Political'] = 0\n",
        "df['Displacement'] = 0\n",
        "df['Humanitarian'] = 0\n",
        "df['Violence'] = 0\n",
        "\n",
        "# Loop through each article in the dataframe\n",
        "for i, row in df.iterrows():\n",
        "    article_text = row['frame_identification_corpus'] # convert text to lowercase\n",
        "    political_count = 0\n",
        "    displacement_count = 0\n",
        "    humanitarian_count = 0\n",
        "    violence_count = 0\n",
        "    \n",
        "    # Check how many seed words are in each frame\n",
        "    for word in political_words:\n",
        "        if word in article_text:\n",
        "            political_count += 1\n",
        "    for word in displacement_words:\n",
        "        if word in article_text:\n",
        "            displacement_count += 1\n",
        "    for word in humanitarian_words:\n",
        "        if word in article_text:\n",
        "            humanitarian_count += 1\n",
        "    for word in violence_words:\n",
        "        if word in article_text:\n",
        "            violence_count += 1\n",
        "    \n",
        "    # Assign the top two frames to the article\n",
        "    frames = []\n",
        "    counts = [political_count, displacement_count, humanitarian_count, violence_count]\n",
        "    for j in range(2):\n",
        "        max_count = max(counts)\n",
        "        if max_count > 0:\n",
        "            max_index = counts.index(max_count)\n",
        "            if max_index == 0:\n",
        "                frames.append('Political')\n",
        "            elif max_index == 1:\n",
        "                frames.append('Displacement')\n",
        "            elif max_index == 2:\n",
        "                frames.append('Humanitarian')\n",
        "            else:\n",
        "                frames.append('Violence')\n",
        "            counts[max_index] = -1\n",
        "    \n",
        "    # Update the dataframe with the assigned frames\n",
        "    for frame in frames:\n",
        "        df.at[i, frame] = 1"
      ],
      "metadata": {
        "id": "dRtk5TrZRv4m"
      },
      "execution_count": 8,
      "outputs": []
    },
    {
      "cell_type": "code",
      "source": [
        "df.head()"
      ],
      "metadata": {
        "id": "rfuTUbptOWsB",
        "outputId": "c26696d9-2b70-49b3-91cd-4ba1daf8970a",
        "colab": {
          "base_uri": "https://localhost:8080/",
          "height": 625
        }
      },
      "execution_count": 9,
      "outputs": [
        {
          "output_type": "execute_result",
          "data": {
            "text/plain": [
              "   Unnamed: 0        Date                                           Headline  \\\n",
              "0           0  2022-07-11  Scotland to pause Ukrainian refugee sponsorshi...   \n",
              "1           1  2022-11-29  Ukrainian refugees and hosts petition UK gover...   \n",
              "2           2  2022-11-27  Concern for health of Ukrainians aboard Scotla...   \n",
              "3           3  2022-12-23  âIâm in a safe placeâ: Ukrainian refugee...   \n",
              "4           4  2022-05-05  The Ukrainian children at the mercy of UKâs ...   \n",
              "\n",
              "                                         merged_text  \\\n",
              "0  Scotland is to pause its Ukrainian refugee spo...   \n",
              "1  Ukrainian refugees and their hosts have delive...   \n",
              "2  The physical and mental health of Ukrainian re...   \n",
              "3  Like many Ukrainian refugees, Yuliia Kashperen...   \n",
              "4  Nazarii has spent the last three weeks listeni...   \n",
              "\n",
              "                                                  id  \\\n",
              "0  2022-07-11ScotlandtopauseUkrainianrefugeespons...   \n",
              "1  2022-11-29UkrainianrefugeesandhostspetitionUKg...   \n",
              "2  2022-11-27ConcernforhealthofUkrainiansaboardSc...   \n",
              "3  2022-12-23âIâminasafeplaceâ:Ukrainianref...   \n",
              "4  2022-05-05TheUkrainianchildrenatthemercyofUKâ...   \n",
              "\n",
              "                                      parsing_corpus  \\\n",
              "0  Scotland is to pause its Ukrainian refugee spo...   \n",
              "1  Ukrainian refugees and their hosts have delive...   \n",
              "2  The physical and mental health of Ukrainian re...   \n",
              "3  Like many Ukrainian refugees Yuliia Kashperenk...   \n",
              "4  Nazarii has spent the last three weeks listeni...   \n",
              "\n",
              "                         frame_identification_corpus  Political  Displacement  \\\n",
              "0  scotland pause ukrainian refugee sponsorship s...          1             0   \n",
              "1  ukrainian refugee host delivered petition down...          1             0   \n",
              "2  physical mental health ukrainian refugee livin...          1             0   \n",
              "3  like many ukrainian refugee yuliia kashperenko...          0             1   \n",
              "4  nazarii spent last three week listening fighte...          1             0   \n",
              "\n",
              "   Humanitarian  Violence  \n",
              "0             1         0  \n",
              "1             1         0  \n",
              "2             1         0  \n",
              "3             1         0  \n",
              "4             1         0  "
            ],
            "text/html": [
              "\n",
              "  <div id=\"df-4a70dda1-9e8c-4335-b2a4-fb19c355e22e\">\n",
              "    <div class=\"colab-df-container\">\n",
              "      <div>\n",
              "<style scoped>\n",
              "    .dataframe tbody tr th:only-of-type {\n",
              "        vertical-align: middle;\n",
              "    }\n",
              "\n",
              "    .dataframe tbody tr th {\n",
              "        vertical-align: top;\n",
              "    }\n",
              "\n",
              "    .dataframe thead th {\n",
              "        text-align: right;\n",
              "    }\n",
              "</style>\n",
              "<table border=\"1\" class=\"dataframe\">\n",
              "  <thead>\n",
              "    <tr style=\"text-align: right;\">\n",
              "      <th></th>\n",
              "      <th>Unnamed: 0</th>\n",
              "      <th>Date</th>\n",
              "      <th>Headline</th>\n",
              "      <th>merged_text</th>\n",
              "      <th>id</th>\n",
              "      <th>parsing_corpus</th>\n",
              "      <th>frame_identification_corpus</th>\n",
              "      <th>Political</th>\n",
              "      <th>Displacement</th>\n",
              "      <th>Humanitarian</th>\n",
              "      <th>Violence</th>\n",
              "    </tr>\n",
              "  </thead>\n",
              "  <tbody>\n",
              "    <tr>\n",
              "      <th>0</th>\n",
              "      <td>0</td>\n",
              "      <td>2022-07-11</td>\n",
              "      <td>Scotland to pause Ukrainian refugee sponsorshi...</td>\n",
              "      <td>Scotland is to pause its Ukrainian refugee spo...</td>\n",
              "      <td>2022-07-11ScotlandtopauseUkrainianrefugeespons...</td>\n",
              "      <td>Scotland is to pause its Ukrainian refugee spo...</td>\n",
              "      <td>scotland pause ukrainian refugee sponsorship s...</td>\n",
              "      <td>1</td>\n",
              "      <td>0</td>\n",
              "      <td>1</td>\n",
              "      <td>0</td>\n",
              "    </tr>\n",
              "    <tr>\n",
              "      <th>1</th>\n",
              "      <td>1</td>\n",
              "      <td>2022-11-29</td>\n",
              "      <td>Ukrainian refugees and hosts petition UK gover...</td>\n",
              "      <td>Ukrainian refugees and their hosts have delive...</td>\n",
              "      <td>2022-11-29UkrainianrefugeesandhostspetitionUKg...</td>\n",
              "      <td>Ukrainian refugees and their hosts have delive...</td>\n",
              "      <td>ukrainian refugee host delivered petition down...</td>\n",
              "      <td>1</td>\n",
              "      <td>0</td>\n",
              "      <td>1</td>\n",
              "      <td>0</td>\n",
              "    </tr>\n",
              "    <tr>\n",
              "      <th>2</th>\n",
              "      <td>2</td>\n",
              "      <td>2022-11-27</td>\n",
              "      <td>Concern for health of Ukrainians aboard Scotla...</td>\n",
              "      <td>The physical and mental health of Ukrainian re...</td>\n",
              "      <td>2022-11-27ConcernforhealthofUkrainiansaboardSc...</td>\n",
              "      <td>The physical and mental health of Ukrainian re...</td>\n",
              "      <td>physical mental health ukrainian refugee livin...</td>\n",
              "      <td>1</td>\n",
              "      <td>0</td>\n",
              "      <td>1</td>\n",
              "      <td>0</td>\n",
              "    </tr>\n",
              "    <tr>\n",
              "      <th>3</th>\n",
              "      <td>3</td>\n",
              "      <td>2022-12-23</td>\n",
              "      <td>âIâm in a safe placeâ: Ukrainian refugee...</td>\n",
              "      <td>Like many Ukrainian refugees, Yuliia Kashperen...</td>\n",
              "      <td>2022-12-23âIâminasafeplaceâ:Ukrainianref...</td>\n",
              "      <td>Like many Ukrainian refugees Yuliia Kashperenk...</td>\n",
              "      <td>like many ukrainian refugee yuliia kashperenko...</td>\n",
              "      <td>0</td>\n",
              "      <td>1</td>\n",
              "      <td>1</td>\n",
              "      <td>0</td>\n",
              "    </tr>\n",
              "    <tr>\n",
              "      <th>4</th>\n",
              "      <td>4</td>\n",
              "      <td>2022-05-05</td>\n",
              "      <td>The Ukrainian children at the mercy of UKâs ...</td>\n",
              "      <td>Nazarii has spent the last three weeks listeni...</td>\n",
              "      <td>2022-05-05TheUkrainianchildrenatthemercyofUKâ...</td>\n",
              "      <td>Nazarii has spent the last three weeks listeni...</td>\n",
              "      <td>nazarii spent last three week listening fighte...</td>\n",
              "      <td>1</td>\n",
              "      <td>0</td>\n",
              "      <td>1</td>\n",
              "      <td>0</td>\n",
              "    </tr>\n",
              "  </tbody>\n",
              "</table>\n",
              "</div>\n",
              "      <button class=\"colab-df-convert\" onclick=\"convertToInteractive('df-4a70dda1-9e8c-4335-b2a4-fb19c355e22e')\"\n",
              "              title=\"Convert this dataframe to an interactive table.\"\n",
              "              style=\"display:none;\">\n",
              "        \n",
              "  <svg xmlns=\"http://www.w3.org/2000/svg\" height=\"24px\"viewBox=\"0 0 24 24\"\n",
              "       width=\"24px\">\n",
              "    <path d=\"M0 0h24v24H0V0z\" fill=\"none\"/>\n",
              "    <path d=\"M18.56 5.44l.94 2.06.94-2.06 2.06-.94-2.06-.94-.94-2.06-.94 2.06-2.06.94zm-11 1L8.5 8.5l.94-2.06 2.06-.94-2.06-.94L8.5 2.5l-.94 2.06-2.06.94zm10 10l.94 2.06.94-2.06 2.06-.94-2.06-.94-.94-2.06-.94 2.06-2.06.94z\"/><path d=\"M17.41 7.96l-1.37-1.37c-.4-.4-.92-.59-1.43-.59-.52 0-1.04.2-1.43.59L10.3 9.45l-7.72 7.72c-.78.78-.78 2.05 0 2.83L4 21.41c.39.39.9.59 1.41.59.51 0 1.02-.2 1.41-.59l7.78-7.78 2.81-2.81c.8-.78.8-2.07 0-2.86zM5.41 20L4 18.59l7.72-7.72 1.47 1.35L5.41 20z\"/>\n",
              "  </svg>\n",
              "      </button>\n",
              "      \n",
              "  <style>\n",
              "    .colab-df-container {\n",
              "      display:flex;\n",
              "      flex-wrap:wrap;\n",
              "      gap: 12px;\n",
              "    }\n",
              "\n",
              "    .colab-df-convert {\n",
              "      background-color: #E8F0FE;\n",
              "      border: none;\n",
              "      border-radius: 50%;\n",
              "      cursor: pointer;\n",
              "      display: none;\n",
              "      fill: #1967D2;\n",
              "      height: 32px;\n",
              "      padding: 0 0 0 0;\n",
              "      width: 32px;\n",
              "    }\n",
              "\n",
              "    .colab-df-convert:hover {\n",
              "      background-color: #E2EBFA;\n",
              "      box-shadow: 0px 1px 2px rgba(60, 64, 67, 0.3), 0px 1px 3px 1px rgba(60, 64, 67, 0.15);\n",
              "      fill: #174EA6;\n",
              "    }\n",
              "\n",
              "    [theme=dark] .colab-df-convert {\n",
              "      background-color: #3B4455;\n",
              "      fill: #D2E3FC;\n",
              "    }\n",
              "\n",
              "    [theme=dark] .colab-df-convert:hover {\n",
              "      background-color: #434B5C;\n",
              "      box-shadow: 0px 1px 3px 1px rgba(0, 0, 0, 0.15);\n",
              "      filter: drop-shadow(0px 1px 2px rgba(0, 0, 0, 0.3));\n",
              "      fill: #FFFFFF;\n",
              "    }\n",
              "  </style>\n",
              "\n",
              "      <script>\n",
              "        const buttonEl =\n",
              "          document.querySelector('#df-4a70dda1-9e8c-4335-b2a4-fb19c355e22e button.colab-df-convert');\n",
              "        buttonEl.style.display =\n",
              "          google.colab.kernel.accessAllowed ? 'block' : 'none';\n",
              "\n",
              "        async function convertToInteractive(key) {\n",
              "          const element = document.querySelector('#df-4a70dda1-9e8c-4335-b2a4-fb19c355e22e');\n",
              "          const dataTable =\n",
              "            await google.colab.kernel.invokeFunction('convertToInteractive',\n",
              "                                                     [key], {});\n",
              "          if (!dataTable) return;\n",
              "\n",
              "          const docLinkHtml = 'Like what you see? Visit the ' +\n",
              "            '<a target=\"_blank\" href=https://colab.research.google.com/notebooks/data_table.ipynb>data table notebook</a>'\n",
              "            + ' to learn more about interactive tables.';\n",
              "          element.innerHTML = '';\n",
              "          dataTable['output_type'] = 'display_data';\n",
              "          await google.colab.output.renderOutput(dataTable, element);\n",
              "          const docLink = document.createElement('div');\n",
              "          docLink.innerHTML = docLinkHtml;\n",
              "          element.appendChild(docLink);\n",
              "        }\n",
              "      </script>\n",
              "    </div>\n",
              "  </div>\n",
              "  "
            ]
          },
          "metadata": {},
          "execution_count": 9
        }
      ]
    },
    {
      "cell_type": "code",
      "source": [
        "df.head()"
      ],
      "metadata": {
        "id": "-UTe2LoccGkz"
      },
      "execution_count": null,
      "outputs": []
    },
    {
      "cell_type": "code",
      "source": [
        "# Save annotated file\n",
        "df.to_csv('drive/MyDrive/Master Thesis/general_complete_annotated.csv')"
      ],
      "metadata": {
        "id": "c-RfrOjScdfc"
      },
      "execution_count": null,
      "outputs": []
    },
    {
      "cell_type": "markdown",
      "source": [
        "#Distribution of Frames"
      ],
      "metadata": {
        "id": "RwyzjMbdThvC"
      }
    },
    {
      "cell_type": "markdown",
      "source": [
        "Split dataset into Ukraine and Syria dataset"
      ],
      "metadata": {
        "id": "Y62tjT8FU4ph"
      }
    },
    {
      "cell_type": "code",
      "source": [
        "!pip install scienceplots"
      ],
      "metadata": {
        "id": "fmbTxwwxXIvE",
        "outputId": "d667642e-3683-4889-8ad8-9a3907b5c228",
        "colab": {
          "base_uri": "https://localhost:8080/"
        }
      },
      "execution_count": 24,
      "outputs": [
        {
          "output_type": "stream",
          "name": "stdout",
          "text": [
            "Looking in indexes: https://pypi.org/simple, https://us-python.pkg.dev/colab-wheels/public/simple/\n",
            "Collecting scienceplots\n",
            "  Downloading SciencePlots-2.0.1-py3-none-any.whl (15 kB)\n",
            "Requirement already satisfied: matplotlib in /usr/local/lib/python3.10/dist-packages (from scienceplots) (3.7.1)\n",
            "Requirement already satisfied: packaging>=20.0 in /usr/local/lib/python3.10/dist-packages (from matplotlib->scienceplots) (23.1)\n",
            "Requirement already satisfied: contourpy>=1.0.1 in /usr/local/lib/python3.10/dist-packages (from matplotlib->scienceplots) (1.0.7)\n",
            "Requirement already satisfied: python-dateutil>=2.7 in /usr/local/lib/python3.10/dist-packages (from matplotlib->scienceplots) (2.8.2)\n",
            "Requirement already satisfied: pyparsing>=2.3.1 in /usr/local/lib/python3.10/dist-packages (from matplotlib->scienceplots) (3.0.9)\n",
            "Requirement already satisfied: pillow>=6.2.0 in /usr/local/lib/python3.10/dist-packages (from matplotlib->scienceplots) (8.4.0)\n",
            "Requirement already satisfied: numpy>=1.20 in /usr/local/lib/python3.10/dist-packages (from matplotlib->scienceplots) (1.22.4)\n",
            "Requirement already satisfied: cycler>=0.10 in /usr/local/lib/python3.10/dist-packages (from matplotlib->scienceplots) (0.11.0)\n",
            "Requirement already satisfied: kiwisolver>=1.0.1 in /usr/local/lib/python3.10/dist-packages (from matplotlib->scienceplots) (1.4.4)\n",
            "Requirement already satisfied: fonttools>=4.22.0 in /usr/local/lib/python3.10/dist-packages (from matplotlib->scienceplots) (4.39.3)\n",
            "Requirement already satisfied: six>=1.5 in /usr/local/lib/python3.10/dist-packages (from python-dateutil>=2.7->matplotlib->scienceplots) (1.16.0)\n",
            "Installing collected packages: scienceplots\n",
            "Successfully installed scienceplots-2.0.1\n"
          ]
        }
      ]
    },
    {
      "cell_type": "code",
      "source": [
        "import pandas as pd\n",
        "import matplotlib.pyplot as plt\n",
        "import scienceplots\n",
        "\n",
        "import seaborn as sns"
      ],
      "metadata": {
        "id": "Gj5yEVrIVW81"
      },
      "execution_count": 32,
      "outputs": []
    },
    {
      "cell_type": "code",
      "source": [
        "plt.style.use(['science', 'no-latex'])\n",
        "plt.rcParams['figure.figsize'] = (6.4, 4.8)"
      ],
      "metadata": {
        "id": "n7giRrt0XX-6"
      },
      "execution_count": 27,
      "outputs": []
    },
    {
      "cell_type": "code",
      "source": [
        "df_concat = df \n",
        "\n",
        "# Calculate the midpoint index\n",
        "midpoint = len(df_concat) // 2\n",
        "\n",
        "# Split the dataframe into two dataframes\n",
        "u_data = df_concat.iloc[:midpoint]\n",
        "s_data = df_concat.iloc[midpoint:]\n",
        "\n",
        "# Print the lengths of the two split dataframes\n",
        "print(len(u_data))\n",
        "print(len(s_data))"
      ],
      "metadata": {
        "id": "hT1io-s-UxoC",
        "outputId": "758cb22b-427e-411b-c0d6-e38e9e09fce9",
        "colab": {
          "base_uri": "https://localhost:8080/"
        }
      },
      "execution_count": 22,
      "outputs": [
        {
          "output_type": "stream",
          "name": "stdout",
          "text": [
            "13554\n",
            "13554\n"
          ]
        }
      ]
    },
    {
      "cell_type": "code",
      "source": [
        "# create a list of column names\n",
        "columns = ['Humanitarian', 'Violence', 'Political', 'Displacement']\n",
        "\n",
        "# create a figure with multiple subplots\n",
        "fig, axs = plt.subplots(1, len(columns), figsize=(10, 5))\n",
        "\n",
        "# loop over the columns and create a bar chart for each one\n",
        "for i, col in enumerate(columns):\n",
        "    counts1 = u_data[u_data[col] == 1][col].count()\n",
        "    counts2 = s_data[s_data[col] == 1][col].count()\n",
        "    combined_counts = pd.DataFrame({'Ukraine': counts1, 'Syria': counts2}, index=[col])\n",
        "    sns.barplot(data=combined_counts, ax=axs[i], palette='Blues', hue_order=['Ukraine', 'Syria'])\n",
        "    axs[i].set_title(col)\n",
        "\n",
        "# add a legend to the last subplot\n",
        "axs[-1].legend(loc='upper right')\n",
        "\n",
        "# adjust the spacing between subplots\n",
        "fig.tight_layout()\n",
        "\n",
        "# show the figure\n",
        "plt.show()"
      ],
      "metadata": {
        "id": "2b-IcrPqThZM",
        "outputId": "82202e31-e281-4deb-f6d9-c75bce3004a1",
        "colab": {
          "base_uri": "https://localhost:8080/",
          "height": 534
        }
      },
      "execution_count": 41,
      "outputs": [
        {
          "output_type": "stream",
          "name": "stderr",
          "text": [
            "WARNING:matplotlib.legend:No artists with labels found to put in legend.  Note that artists whose label start with an underscore are ignored when legend() is called with no argument.\n"
          ]
        },
        {
          "output_type": "display_data",
          "data": {
            "text/plain": [
              "<Figure size 1000x500 with 4 Axes>"
            ],
            "image/png": "[encoded data removed]"
          },
          "metadata": {}
        }
      ]
    },
    {
      "cell_type": "code",
      "source": [],
      "metadata": {
        "id": "88aKv6vzVb09"
      },
      "execution_count": null,
      "outputs": []
    }
  ]
}