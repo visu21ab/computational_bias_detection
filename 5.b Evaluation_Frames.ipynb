{
  "nbformat": 4,
  "nbformat_minor": 0,
  "metadata": {
    "colab": {
      "provenance": [],
      "mount_file_id": "1tOQi6clS_PypD7geyeW1yu0RTPHfelXB",
      "authorship_tag": "ABX9TyNClzYkIyxnoX4itKqcRd0j",
      "include_colab_link": true
    },
    "kernelspec": {
      "name": "python3",
      "display_name": "Python 3"
    },
    "language_info": {
      "name": "python"
    }
  },
  "cells": [
    {
      "cell_type": "markdown",
      "metadata": {
        "id": "view-in-github",
        "colab_type": "text"
      },
      "source": [
        "<a href=\"https://colab.research.google.com/github/visu21ab/computational_bias_detection/blob/main/5.b%20Evaluation_Frames.ipynb\" target=\"_parent\"><img src=\"https://colab.research.google.com/assets/colab-badge.svg\" alt=\"Open In Colab\"/></a>"
      ]
    },
    {
      "cell_type": "markdown",
      "source": [
        "# Evaluation"
      ],
      "metadata": {
        "id": "RvYs5H4s3FVL"
      }
    },
    {
      "cell_type": "markdown",
      "source": [
        "pre-requisite files:\n",
        "- sample of 1000 rows frmo ukraine dataset annotated with frames \n",
        "- sample of 1000 rows frmo ukraine dataset with predicted frames \n"
      ],
      "metadata": {
        "id": "OYleMB_13H-H"
      }
    },
    {
      "cell_type": "code",
      "source": [
        "# Import requiered packages\n",
        "import pandas as pd\n",
        "import numpy as np\n",
        "import seaborn as sns\n",
        "from sklearn import metrics\n",
        "import matplotlib.pyplot as plt\n",
        "\n",
        "from sklearn.metrics import classification_report\n",
        "import ast"
      ],
      "metadata": {
        "id": "B5FFNjKdRBxy"
      },
      "execution_count": 2,
      "outputs": []
    },
    {
      "cell_type": "code",
      "source": [
        "# Read the data\n",
        "data_pred = pd.read_csv('drive/MyDrive/Master Thesis/ukraine_predicted_frames.csv')\n",
        "data_true = pd.read_csv('drive/MyDrive/Master Thesis/ukraine_annotated_frames.csv')"
      ],
      "metadata": {
        "id": "2OwpENP1KziJ"
      },
      "execution_count": 55,
      "outputs": []
    },
    {
      "cell_type": "code",
      "source": [
        "data_true.count()"
      ],
      "metadata": {
        "colab": {
          "base_uri": "https://localhost:8080/"
        },
        "id": "zlRgCAmaU3vB",
        "outputId": "6d8b1e3c-b005-4e09-9728-8cd88807ed51"
      },
      "execution_count": 67,
      "outputs": [
        {
          "output_type": "execute_result",
          "data": {
            "text/plain": [
              "Unnamed: 0                     1000\n",
              "Date                           1000\n",
              "Headline                       1000\n",
              "merged_text                    1000\n",
              "id                             1000\n",
              "parsing_corpus                 1000\n",
              "frame_identification_corpus    1000\n",
              "Frames                         1000\n",
              "dtype: int64"
            ]
          },
          "metadata": {},
          "execution_count": 67
        }
      ]
    },
    {
      "cell_type": "code",
      "source": [
        "data_pred.count()"
      ],
      "metadata": {
        "colab": {
          "base_uri": "https://localhost:8080/"
        },
        "id": "SQuW_BAnU9aJ",
        "outputId": "3a183a4f-d0b0-4797-efd3-dff396973a9e"
      },
      "execution_count": 57,
      "outputs": [
        {
          "output_type": "execute_result",
          "data": {
            "text/plain": [
              "Unnamed: 0                     1000\n",
              "Date                           1000\n",
              "Headline                       1000\n",
              "merged_text                    1000\n",
              "id                             1000\n",
              "parsing_corpus                 1000\n",
              "frame_identification_corpus    1000\n",
              "Frames                         1000\n",
              "dtype: int64"
            ]
          },
          "metadata": {},
          "execution_count": 57
        }
      ]
    },
    {
      "cell_type": "code",
      "source": [
        "# Get the true labels and predicted labels for the dataset\n",
        "y_true = data_pred['Frames']\n",
        "y_pred = data_true['Frames']"
      ],
      "metadata": {
        "id": "zlI7pBjCR9IW"
      },
      "execution_count": 65,
      "outputs": []
    },
    {
      "cell_type": "code",
      "source": [
        "# Define the labels for evaluation\n",
        "labels = ['Humanitarian', 'Violence', 'Displacement', 'Political']\n",
        "\n",
        "# Calculate classification report for each label\n",
        "for label in labels:\n",
        "    # Create binary true labels for the current label\n",
        "    y_true_label = [1 if label in ast.literal_eval(l) else 0 for l in y_true]\n",
        "    # Create binary predicted labels for the current label\n",
        "    y_pred_label = [1 if label in ast.literal_eval(l) else 0 for l in y_pred]\n",
        "    \n",
        "    # Compute classification report for the current label\n",
        "    report = classification_report(y_true_label, y_pred_label, output_dict=True)\n",
        "    \n",
        "    # Print metrics for the current label\n",
        "    print(\"Label: {}\".format(label))\n",
        "    print(\"F1 Score: {:.2f}\".format(report['1']['f1-score']))\n",
        "    print(\"Recall: {:.2f}\".format(report['1']['recall']))\n",
        "    print(\"Precision: {:.2f}\".format(report['1']['precision']))\n",
        "    print(\"Accuracy: {:.2f}\".format(report['accuracy']))\n",
        "    print(\"\")\n"
      ],
      "metadata": {
        "colab": {
          "base_uri": "https://localhost:8080/"
        },
        "id": "DIehUg0nPGPN",
        "outputId": "6e323c90-875f-4f67-b5d4-6b438b7add4a"
      },
      "execution_count": 66,
      "outputs": [
        {
          "output_type": "stream",
          "name": "stdout",
          "text": [
            "Label: Humanitarian\n",
            "F1 Score: 0.86\n",
            "Recall: 0.83\n",
            "Precision: 0.89\n",
            "Accuracy: 0.83\n",
            "\n",
            "Label: Violence\n",
            "F1 Score: 0.78\n",
            "Recall: 0.81\n",
            "Precision: 0.76\n",
            "Accuracy: 0.81\n",
            "\n",
            "Label: Displacement\n",
            "F1 Score: 0.80\n",
            "Recall: 0.83\n",
            "Precision: 0.77\n",
            "Accuracy: 0.81\n",
            "\n",
            "Label: Political\n",
            "F1 Score: 0.81\n",
            "Recall: 0.81\n",
            "Precision: 0.80\n",
            "Accuracy: 0.82\n",
            "\n"
          ]
        }
      ]
    }
  ]
}